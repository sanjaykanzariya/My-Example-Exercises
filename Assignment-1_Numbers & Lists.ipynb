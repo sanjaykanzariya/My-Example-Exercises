{
 "cells": [
  {
   "cell_type": "markdown",
   "metadata": {},
   "source": [
    "### 1. write a program to randomly print an integer number between 7 and 15 inclusive."
   ]
  },
  {
   "cell_type": "code",
   "execution_count": 1,
   "metadata": {},
   "outputs": [
    {
     "data": {
      "text/plain": [
       "15"
      ]
     },
     "execution_count": 1,
     "metadata": {},
     "output_type": "execute_result"
    }
   ],
   "source": [
    "import random\n",
    "random.randint(7,15) # Prints a random integer between 7 and 15 inclusive."
   ]
  },
  {
   "cell_type": "markdown",
   "metadata": {},
   "source": [
    "### 2. write a program to shuffle and print the list [3,6,7,8]."
   ]
  },
  {
   "cell_type": "code",
   "execution_count": 2,
   "metadata": {},
   "outputs": [
    {
     "name": "stdout",
     "output_type": "stream",
     "text": [
      "Original list:  [3, 6, 7, 8]\n",
      "Shuffled list:  [7, 6, 8, 3]\n"
     ]
    }
   ],
   "source": [
    "list1 = [3,6,7,8] # Defining the original list\n",
    "print('Original list: ', list1) # Printing the original list\n",
    "random.shuffle(list1) # Shuffling the original list with the help of shuffle method from random module\n",
    "print('Shuffled list: ', list1) # Printing the shuffled list"
   ]
  },
  {
   "cell_type": "markdown",
   "metadata": {},
   "source": [
    "### 3. write a program to generate a list with 5 random numbers between 100 and 200 inclusive."
   ]
  },
  {
   "cell_type": "code",
   "execution_count": 3,
   "metadata": {},
   "outputs": [
    {
     "name": "stdout",
     "output_type": "stream",
     "text": [
      "[131, 124, 171, 153, 175]\n"
     ]
    }
   ],
   "source": [
    "# Method-1: Creating the list with randint method directly in the form of list\n",
    "list2 = [random.randint(100,200),random.randint(100,200),\\\n",
    "         random.randint(100,200),random.randint(100,200),random.randint(100,200)]\n",
    "print(list2)"
   ]
  },
  {
   "cell_type": "code",
   "execution_count": 4,
   "metadata": {},
   "outputs": [
    {
     "name": "stdout",
     "output_type": "stream",
     "text": [
      "[136, 163, 141, 186, 151]\n"
     ]
    }
   ],
   "source": [
    "# Method-2: Iterating through a for loop and appending each random integer to the list\n",
    "list3 = [] # Creating the blank list to append the numbers later on\n",
    "for i in range(0,5): # Iterating the for loop five times\n",
    "    list3.append(random.randint(100,200)) # Appending the random integer to the list\n",
    "print(list3)"
   ]
  },
  {
   "cell_type": "markdown",
   "metadata": {},
   "source": [
    "### 4. Define a function which can generate and print a list where the values are square of numbers between 1 and 20 (both included)."
   ]
  },
  {
   "cell_type": "code",
   "execution_count": 5,
   "metadata": {},
   "outputs": [
    {
     "name": "stdout",
     "output_type": "stream",
     "text": [
      "Original list of numbers:  [20, 1, 1]\n",
      "List of Squared Numbers:  [400, 1, 1]\n"
     ]
    }
   ],
   "source": [
    "list_of_numbers = []\n",
    "for i in range(0,random.randint(1,20)): # Generating the random integers using for loop and appending them to the blank list\n",
    "    list_of_numbers.append(random.randint(1,20))\n",
    "print('Original list of numbers: ',list_of_numbers)    \n",
    "\n",
    "def square_of(numlist): # Defining the function to square the number of list passed as an attribute\n",
    "    \n",
    "    '''\n",
    "    This functions takes list of numbers as an input and returns the list of square of the input numbers.\n",
    "    '''\n",
    "    \n",
    "    squared_list = []\n",
    "    \n",
    "    for num in numlist:\n",
    "        squared_list.append(num**2) # Squaring each number in the list and appending it to the blank list\n",
    "    \n",
    "    return squared_list\n",
    "\n",
    "print('List of Squared Numbers: ',square_of(list_of_numbers))"
   ]
  },
  {
   "cell_type": "markdown",
   "metadata": {},
   "source": [
    "### 5. Define a function which can generate a list where the values are square of numbers between 1 and 20 (both included). Then the function needs to print the first 5 elements in the list."
   ]
  },
  {
   "cell_type": "code",
   "execution_count": 6,
   "metadata": {},
   "outputs": [
    {
     "name": "stdout",
     "output_type": "stream",
     "text": [
      "Original list of numbers:  [14, 19, 17]\n",
      "List of Squared Numbers:  [196, 361, 289]\n",
      "First 5 elements of the list:  [196, 361, 289]\n"
     ]
    }
   ],
   "source": [
    "list4 = []\n",
    "for i in range(0,random.randint(1,20)):\n",
    "    list4.append(random.randint(1,20))\n",
    "print('Original list of numbers: ',list4)\n",
    "print('List of Squared Numbers: ',square_of(list4))\n",
    "print('First 5 elements of the list: ',square_of(list4)[:5])"
   ]
  },
  {
   "cell_type": "markdown",
   "metadata": {},
   "source": [
    "### 6. With a given tuple (1,2,3,4,5,6,7,8,9,10), write a program to print the first half values in one line and the last half values in one line."
   ]
  },
  {
   "cell_type": "code",
   "execution_count": 7,
   "metadata": {},
   "outputs": [
    {
     "name": "stdout",
     "output_type": "stream",
     "text": [
      "1 2 3 4 5 \n",
      "\n",
      "6 7 8 9 10 "
     ]
    }
   ],
   "source": [
    "tup = (1,2,3,4,5,6,7,8,9,10)\n",
    "\n",
    "for i in range(0,len(tup)):\n",
    "    \n",
    "    if i == len(tup)/2: # printing the numbers till half length of the give tuple\n",
    "        \n",
    "        print('\\n')\n",
    "        print(tup[i], end=' ') # Using whitespace as separating character\n",
    "    \n",
    "    else:\n",
    "        \n",
    "        print(tup[i], end=' ')\n"
   ]
  },
  {
   "cell_type": "markdown",
   "metadata": {},
   "source": [
    "### 7. Write a program which accepts a string as input to print \"Yes\" if the string is \"yes\" or \"YES\" or \"Yes\", otherwise print \"No\"."
   ]
  },
  {
   "cell_type": "code",
   "execution_count": 8,
   "metadata": {},
   "outputs": [
    {
     "name": "stdout",
     "output_type": "stream",
     "text": [
      "Enter the string \"yes\": Yea\n",
      "No\n"
     ]
    }
   ],
   "source": [
    "string = input('Enter the string \"yes\": ') # Take input from user and assign it to the variable string\n",
    "\n",
    "if string.upper() == \"YES\": # Checking if the given input meets the criteria\n",
    "    print('Yes')\n",
    "else:\n",
    "    print('No')"
   ]
  },
  {
   "cell_type": "markdown",
   "metadata": {},
   "source": [
    "### 8. Write a program which accepts a sequence of words separated by whitespace as input to print the words composed of digits only."
   ]
  },
  {
   "cell_type": "code",
   "execution_count": 9,
   "metadata": {},
   "outputs": [
    {
     "name": "stdout",
     "output_type": "stream",
     "text": [
      "Enter the sentence: hell0 my name is sanjay1\n",
      "The words with digits in them are:  2\n",
      "['hell0', 'sanjay1']\n"
     ]
    }
   ],
   "source": [
    "words_input = input('Enter the sentence: ') # Taking the input from user, as a sentence\n",
    "\n",
    "words_list = words_input.split() # Splitting the sentence into words using whitespace (by default)\n",
    "\n",
    "list_of_words_with_digits = [] # Creating a blank list to use it later to append the desired output\n",
    "\n",
    "for word in words_list: # Iterating through every word in the list of words\n",
    "    \n",
    "    for i in range(0,len(word)): # Iterating through every character in a word\n",
    "        \n",
    "        if word[i] in str([0,1,2,3,4,5,6,7,8,9]): # Checking if the character is a digit or not\n",
    "            \n",
    "            list_of_words_with_digits.append(word) # If it's a digit, appending the word to the list\n",
    "            break\n",
    "\n",
    "if len(list_of_words_with_digits) == 0: # If there are not words with digits in it\n",
    "    print('There are no words with digits in it.')\n",
    "else:\n",
    "    print('The words with digits in them are: ',len(list_of_words_with_digits))\n",
    "    print(list_of_words_with_digits)"
   ]
  }
 ],
 "metadata": {
  "kernelspec": {
   "display_name": "Python 3",
   "language": "python",
   "name": "python3"
  },
  "language_info": {
   "codemirror_mode": {
    "name": "ipython",
    "version": 3
   },
   "file_extension": ".py",
   "mimetype": "text/x-python",
   "name": "python",
   "nbconvert_exporter": "python",
   "pygments_lexer": "ipython3",
   "version": "3.7.3"
  }
 },
 "nbformat": 4,
 "nbformat_minor": 2
}
