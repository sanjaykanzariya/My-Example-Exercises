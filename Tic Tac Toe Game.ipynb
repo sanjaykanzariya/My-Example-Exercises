{
 "cells": [
  {
   "cell_type": "code",
   "execution_count": 1,
   "metadata": {},
   "outputs": [
    {
     "name": "stdout",
     "output_type": "stream",
     "text": [
      "Welcome to Tic Tac Toe Game! Please note below number representation for your input!\n",
      "\n",
      "\n",
      " 1 | 2 | 3 \n",
      "--- --- ---\n",
      " 4 | 5 | 6 \n",
      "--- --- ---\n",
      " 7 | 8 | 9 \n",
      "\n",
      "\n"
     ]
    }
   ],
   "source": [
    "def draw_board_first_time():\n",
    "    \n",
    "    print('Welcome to Tic Tac Toe Game! Please note below number representation for your input!')\n",
    "    \n",
    "    board = ''\n",
    "    print('\\n')\n",
    "    board += ' 1 | 2 | 3 ' + '\\n'\n",
    "    board += '--- --- ---' +'\\n'\n",
    "    board += ' 4 | 5 | 6 ' + '\\n'\n",
    "    board += '--- --- ---'+'\\n'\n",
    "    board += ' 7 | 8 | 9 '\n",
    "    print (board)\n",
    "    print('\\n')\n",
    "\n",
    "draw_board_first_time()"
   ]
  },
  {
   "cell_type": "code",
   "execution_count": 2,
   "metadata": {},
   "outputs": [],
   "source": [
    "from IPython.display import clear_output\n",
    "\n",
    "def display_board(board):\n",
    "    clear_output()\n",
    "    print('\\n')\n",
    "    # Iterating through every list object of the board, except the first one.\n",
    "    for i in range(1,len(board)-1,3):\n",
    "        print(f' {board[i]} | {board[i+1]} | {board[i+2]}')\n",
    "        \n",
    "        if i == 7:\n",
    "            break\n",
    "        else:\n",
    "            print('--- --- ---')\n",
    "    print('\\n')"
   ]
  },
  {
   "cell_type": "code",
   "execution_count": 4,
   "metadata": {},
   "outputs": [],
   "source": [
    "def player_input():\n",
    "    player1_mark = input('Player-1: Do you want to choose X or O?: ').upper()\n",
    "    \n",
    "    while player1_mark not in 'XO':\n",
    "        print('Please select the correct marker!')\n",
    "        player1_mark = input('Do you want to choose X or O?: ').upper()\n",
    "    \n",
    "    if player1_mark == 'X':\n",
    "        player2_mark = 'O'\n",
    "    else:\n",
    "        player2_mark = 'X'\n",
    "    \n",
    "    return (player1_mark, player2_mark)"
   ]
  },
  {
   "cell_type": "code",
   "execution_count": 6,
   "metadata": {},
   "outputs": [],
   "source": [
    "def place_marker(board, marker, position):\n",
    "    \n",
    "    board[position] = marker"
   ]
  },
  {
   "cell_type": "code",
   "execution_count": 8,
   "metadata": {},
   "outputs": [],
   "source": [
    "def win_check(board, mark):\n",
    "    \n",
    "    mark_combo = [mark,mark,mark]\n",
    "    \n",
    "    return [board[1],board[2],board[3]] == mark_combo or\\\n",
    "    [board[4],board[5],board[6]] == mark_combo or\\\n",
    "    [board[7],board[8],board[9]] == mark_combo or\\\n",
    "    [board[1],board[4],board[7]] == mark_combo or\\\n",
    "    [board[2],board[5],board[8]] == mark_combo or\\\n",
    "    [board[3],board[6],board[9]] == mark_combo or\\\n",
    "    [board[1],board[5],board[9]] == mark_combo or\\\n",
    "    [board[3],board[5],board[7]] == mark_combo"
   ]
  },
  {
   "cell_type": "code",
   "execution_count": 10,
   "metadata": {},
   "outputs": [],
   "source": [
    "import random\n",
    "\n",
    "def choose_first():\n",
    "    player_turn = random.randint(1,2)\n",
    "    \n",
    "    if player_turn == 1:\n",
    "        return 'Player-1'\n",
    "    else:\n",
    "        return 'Player-2'"
   ]
  },
  {
   "cell_type": "code",
   "execution_count": 12,
   "metadata": {},
   "outputs": [],
   "source": [
    "def space_check(board, position):\n",
    "    \n",
    "    return board[position] == ' '"
   ]
  },
  {
   "cell_type": "code",
   "execution_count": 14,
   "metadata": {},
   "outputs": [],
   "source": [
    "def full_board_check(board):\n",
    "    \n",
    "    # Creating an empty placeholder to check whether there is an empty space in the board.\n",
    "    empty = ''\n",
    "    \n",
    "    for i in range(1,10):\n",
    "        if board[i] != ' ':\n",
    "            pass\n",
    "        else:\n",
    "            empty += '*'\n",
    "\n",
    "    return len(empty) < 1"
   ]
  },
  {
   "cell_type": "code",
   "execution_count": 17,
   "metadata": {},
   "outputs": [],
   "source": [
    "def player_choice(board):\n",
    "    \n",
    "    position_choice = 0\n",
    "               \n",
    "    while position_choice not in [1,2,3,4,5,6,7,8,9] or not space_check(board, position_choice):\n",
    "        \n",
    "        position_choice = int(input('Enter your next choice: (1-9) '))\n",
    "    \n",
    "    return position_choice"
   ]
  },
  {
   "cell_type": "code",
   "execution_count": 20,
   "metadata": {},
   "outputs": [],
   "source": [
    "def replay():\n",
    "    \n",
    "    replay_choice = input('Do you wish to play again? (y/n): ')\n",
    "    return replay_choice in 'yY'"
   ]
  },
  {
   "cell_type": "code",
   "execution_count": 22,
   "metadata": {},
   "outputs": [
    {
     "name": "stdout",
     "output_type": "stream",
     "text": [
      "\n",
      "\n",
      " X | O | O\n",
      "--- --- ---\n",
      " O | O |  \n",
      "--- --- ---\n",
      " X | X | X\n",
      "\n",
      "\n",
      "Congratulations! You have won the game!\n",
      "Do you wish to play again? (y/n): n\n"
     ]
    }
   ],
   "source": [
    "draw_board_first_time()\n",
    "\n",
    "\n",
    "\n",
    "while True:\n",
    "    \n",
    "    board = [' ']*10\n",
    "    player1_mark,player2_mark = player_input()\n",
    "    turn = choose_first()\n",
    "    print(f'{turn} will go first.')\n",
    "    \n",
    "    play_game = input('Are you ready to play? (y/n)')\n",
    "    \n",
    "    if play_game.lower() == 'y':\n",
    "        game_on = True\n",
    "    else:\n",
    "        game_on = False\n",
    "        \n",
    "    while game_on:\n",
    "        \n",
    "        if turn == 'Player-1':\n",
    "            \n",
    "            display_board(board)\n",
    "            position = player_choice(board)\n",
    "            place_marker(board,player1_mark,position)\n",
    "            \n",
    "            if win_check(board,player1_mark):\n",
    "                display_board(board)\n",
    "                print('Congratulations! You have won the game!')\n",
    "                game_on = False\n",
    "            else:\n",
    "                if full_board_check(board):\n",
    "                    display_board(board)\n",
    "                    print('The game is a tie!')\n",
    "                    break\n",
    "                else:\n",
    "                    turn = 'Player-2'\n",
    "        \n",
    "        else:\n",
    "            \n",
    "            display_board(board)\n",
    "            position = player_choice(board)\n",
    "            place_marker(board, player2_mark, position)\n",
    "\n",
    "            if win_check(board, player2_mark):\n",
    "                display_board(board)\n",
    "                print('Player-2 has won!')\n",
    "                game_on = False\n",
    "            else:\n",
    "                if full_board_check(board):\n",
    "                    display_board(board)\n",
    "                    print('The game is a tie!')\n",
    "                    break\n",
    "                else:\n",
    "                    turn = 'Player-1'\n",
    "        \n",
    "\n",
    "    if not replay():\n",
    "        break"
   ]
  }
 ],
 "metadata": {
  "kernelspec": {
   "display_name": "Python 3",
   "language": "python",
   "name": "python3"
  },
  "language_info": {
   "codemirror_mode": {
    "name": "ipython",
    "version": 3
   },
   "file_extension": ".py",
   "mimetype": "text/x-python",
   "name": "python",
   "nbconvert_exporter": "python",
   "pygments_lexer": "ipython3",
   "version": "3.7.3"
  }
 },
 "nbformat": 4,
 "nbformat_minor": 2
}
