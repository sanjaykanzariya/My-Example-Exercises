{
 "cells": [
  {
   "cell_type": "markdown",
   "metadata": {},
   "source": [
    "This section contains Python programs examples on Lists. \n",
    "#### *List is a collection of data or information which is ordered and changeable. Lists are written with square brackets. List is used to store the multiple data at a same time. Each element which is inside the list is called an item.*\n",
    "The Python programs in this section finds the largest and second largest number in the given list, it also finds the second largest number using bubble sort algorithm. The Python programming examples also contains programs on sorting the given list according to their lengths, merging two lists and sort it, finds the intersection of two lists. The other python programs in this section performs swapping values and removing duplicate values from the list, program to solve maximum subarray problem using kadane’s and divide and conquer algorithms. It also talks about python programs on finding the number which is having perfect square in a given range of numbers."
   ]
  },
  {
   "cell_type": "markdown",
   "metadata": {},
   "source": [
    "### 1. Find the Largest Number in a List."
   ]
  },
  {
   "cell_type": "code",
   "execution_count": 1,
   "metadata": {},
   "outputs": [
    {
     "name": "stdout",
     "output_type": "stream",
     "text": [
      "The largest number in given list is:  8276\n"
     ]
    }
   ],
   "source": [
    "lst1 = [21,82,719,28,937,8276,27,73,4732]\n",
    "\n",
    "largest_number = max(lst1)\n",
    "\n",
    "print('The largest number in given list is: ',largest_number)"
   ]
  },
  {
   "cell_type": "markdown",
   "metadata": {},
   "source": [
    "### 2. Find the Second Largest Number in a List."
   ]
  },
  {
   "cell_type": "code",
   "execution_count": 2,
   "metadata": {},
   "outputs": [
    {
     "name": "stdout",
     "output_type": "stream",
     "text": [
      "The second largest number in given list is:  4732\n"
     ]
    }
   ],
   "source": [
    "lst2 = [21,82,719,28,937,8276,27,73,4732,4732,8276]\n",
    "lst2 = list(set(lst2))\n",
    "largest_number = max(lst2)\n",
    "ln_index = lst2.index(largest_number)\n",
    "lst2.pop(ln_index)\n",
    "second_lrgst_num = max(lst2)\n",
    "print('The second largest number in given list is: ',second_lrgst_num)"
   ]
  },
  {
   "cell_type": "markdown",
   "metadata": {},
   "source": [
    "### 3. Put Even and Odd elements in a List into Two Different Lists."
   ]
  },
  {
   "cell_type": "code",
   "execution_count": 3,
   "metadata": {},
   "outputs": [
    {
     "name": "stdout",
     "output_type": "stream",
     "text": [
      "The odd number list:  [1, 3, 5, 7, 9]\n",
      "The even number list:  [2, 4, 6, 8, 10]\n"
     ]
    }
   ],
   "source": [
    "lst3 = [1,2,3,4,5,6,7,8,9,10]\n",
    "even_list = []\n",
    "odd_list = []\n",
    "\n",
    "for num in lst3:\n",
    "    if num % 2 == 0:\n",
    "        even_list.append(num)\n",
    "    else:\n",
    "        odd_list.append(num)\n",
    "        \n",
    "print('The odd number list: ',odd_list)\n",
    "print('The even number list: ',even_list)"
   ]
  },
  {
   "cell_type": "markdown",
   "metadata": {},
   "source": [
    "### 4. Merge Two Lists and Sort it."
   ]
  },
  {
   "cell_type": "code",
   "execution_count": 4,
   "metadata": {},
   "outputs": [
    {
     "name": "stdout",
     "output_type": "stream",
     "text": [
      "[1, 2, 3, 4, 5, 6, 9, 12, 21, 23, 32, 34, 35, 46, 49, 85]\n"
     ]
    }
   ],
   "source": [
    "list4 = [5,2,4,6,9,34,1,32]\n",
    "list5 = [12,49,35,21,85,46,23,3]\n",
    "\n",
    "merged_list = list4 + list5\n",
    "merged_list.sort()\n",
    "print(merged_list)"
   ]
  },
  {
   "cell_type": "markdown",
   "metadata": {},
   "source": [
    "### 5. Sort the List According to the Second Element in Sublist."
   ]
  },
  {
   "cell_type": "code",
   "execution_count": 5,
   "metadata": {},
   "outputs": [
    {
     "name": "stdout",
     "output_type": "stream",
     "text": [
      "[['sapna', 5], ['sanjay', 10], ['priyanka', 15], ['bhawana', 20], ['meenu', 25]]\n"
     ]
    }
   ],
   "source": [
    "list6 = [['sanjay', 10], ['sapna', 5], ['bhawana', 20], ['priyanka', 15],['meenu', 25]]\n",
    "\n",
    "list6.sort(key = lambda x: x[1])\n",
    "\n",
    "print(list6)"
   ]
  },
  {
   "cell_type": "markdown",
   "metadata": {},
   "source": [
    "### 6. Find the Second Largest Number in a List Using Bubble Sort."
   ]
  },
  {
   "cell_type": "code",
   "execution_count": 6,
   "metadata": {},
   "outputs": [
    {
     "name": "stdout",
     "output_type": "stream",
     "text": [
      "The second largest number in list is:  49\n"
     ]
    }
   ],
   "source": [
    "list7 = [12,49,35,21,85,46,23,3]\n",
    "\n",
    "for i in range(0,len(list7)):\n",
    "    for j in range(0,len(list7)-i-1):\n",
    "        if list7[j] > list7[j+1]:\n",
    "            temp = list7[j]\n",
    "            list7[j] = list7[j+1]\n",
    "            list7[j+1] = temp\n",
    "print('The second largest number in list is: ',list7[-2])"
   ]
  },
  {
   "cell_type": "markdown",
   "metadata": {},
   "source": [
    "### 7. Sort a List According to the Length of the Elements."
   ]
  },
  {
   "cell_type": "code",
   "execution_count": 7,
   "metadata": {},
   "outputs": [
    {
     "name": "stdout",
     "output_type": "stream",
     "text": [
      "The sorted list:  ['me', 'amy', 'sapna', 'meenu', 'sanjay', 'bhawana', 'priyanka', 'jaimatadi', 'sahastrabuddhe']\n"
     ]
    }
   ],
   "source": [
    "list8 = ['sanjay','sapna','priyanka','sahastrabuddhe','bhawana','meenu','amy','me','jaimatadi']\n",
    "l = len(list8)\n",
    "\n",
    "for i in range(0,l):\n",
    "    for j in range(0,l-i-1):\n",
    "        if len(list8[j]) > len(list8[j+1]):\n",
    "            temp = list8[j]\n",
    "            list8[j] = list8[j+1]\n",
    "            list8[j+1] = temp\n",
    "            \n",
    "print('The sorted list: ',list8)"
   ]
  },
  {
   "cell_type": "markdown",
   "metadata": {},
   "source": [
    "### 8. Find the Union of two Lists."
   ]
  },
  {
   "cell_type": "code",
   "execution_count": 8,
   "metadata": {},
   "outputs": [
    {
     "name": "stdout",
     "output_type": "stream",
     "text": [
      "The union list of given two lists: [32, 2, 12, 14, 15, 16, 48, 47, 20, 52, 54, 23, 26]\n"
     ]
    }
   ],
   "source": [
    "list9 = [23, 15, 2, 14, 14, 16, 20 ,52]\n",
    "list10 = [2, 48, 15, 12, 26, 32, 47, 54]\n",
    "\n",
    "list9 = list(set(list9))\n",
    "list10 = list(set(list10))\n",
    "\n",
    "union_list = list(set(list9+list10))\n",
    "\n",
    "print('The union list of given two lists:',union_list)"
   ]
  },
  {
   "cell_type": "markdown",
   "metadata": {},
   "source": [
    "### 9. Find the Intersection of Two Lists."
   ]
  },
  {
   "cell_type": "code",
   "execution_count": 9,
   "metadata": {},
   "outputs": [
    {
     "name": "stdout",
     "output_type": "stream",
     "text": [
      "Intersection of given lists is:  [2, 14, 15]\n"
     ]
    }
   ],
   "source": [
    "list11 = [23, 15, 2, 14, 14, 16, 20 ,52]\n",
    "list12 = [2, 48, 15, 12, 26, 14, 47, 54]\n",
    "\n",
    "intersection_list = []\n",
    "\n",
    "for i in range(0,len(list11)):\n",
    "    \n",
    "    for j in range(0,len(list12)):\n",
    "        \n",
    "        if list11[i] == list12[j]:\n",
    "            intersection_list.append(list11[i])\n",
    "\n",
    "print('Intersection of given lists is: ',list(set(intersection_list)))"
   ]
  },
  {
   "cell_type": "markdown",
   "metadata": {},
   "source": [
    "### 10. Create a List of Tuples with the First Element as the Number and Second Element as the Square of the Number."
   ]
  },
  {
   "cell_type": "code",
   "execution_count": 10,
   "metadata": {},
   "outputs": [
    {
     "name": "stdout",
     "output_type": "stream",
     "text": [
      "[(1, 1), (2, 4), (3, 9), (4, 16), (5, 25)]\n"
     ]
    }
   ],
   "source": [
    "def squared_tuples(lst):\n",
    "    list_of_squared_tuples = []\n",
    "    \n",
    "    for i in range(0,len(lst)):\n",
    "        list_of_squared_tuples.append((lst[i],(lst[i])**2))\n",
    "        \n",
    "    return list_of_squared_tuples\n",
    "        \n",
    "list13 = [1,2,3,4,5]\n",
    "print(squared_tuples(list13))"
   ]
  },
  {
   "cell_type": "markdown",
   "metadata": {},
   "source": [
    "### 11. Find all Numbers in a Range which are Perfect Squares and Sum of all Digits in the Number is Less than 10."
   ]
  },
  {
   "cell_type": "code",
   "execution_count": 11,
   "metadata": {},
   "outputs": [
    {
     "name": "stdout",
     "output_type": "stream",
     "text": [
      "Enter lower range: 9\n",
      "Enter upper range: 1\n",
      "Kindly enter the proper lower range: 1\n",
      "Kindly enter the proper upper range: 1000\n",
      "[1, 4, 9, 16, 25, 36, 81, 100, 121, 144, 225, 324, 400, 441, 900]\n"
     ]
    }
   ],
   "source": [
    "import math\n",
    "result_list = []\n",
    "\n",
    "def sum_of_digits(n):\n",
    "    list_of_digits = []\n",
    "    \n",
    "    while n > 0:\n",
    "        remainder = n % 10\n",
    "        list_of_digits.append(remainder)\n",
    "        n = n // 10\n",
    "    \n",
    "    return sum(list_of_digits) < 10\n",
    "\n",
    "def is_perfect_square(n):\n",
    "    return (math.floor(math.sqrt(n)) - math.sqrt(n)) == 0\n",
    "    \n",
    "lower = int(input('Enter lower range: '))\n",
    "upper = int(input('Enter upper range: '))\n",
    "\n",
    "while lower > upper:\n",
    "    lower = int(input('Kindly enter the proper lower range: '))\n",
    "    upper = int(input('Kindly enter the proper upper range: '))\n",
    "    \n",
    "for num in range(lower,upper+1):\n",
    "    if is_perfect_square(num):\n",
    "        if sum_of_digits(num):\n",
    "            result_list.append(num)\n",
    "            \n",
    "print(result_list)"
   ]
  },
  {
   "cell_type": "markdown",
   "metadata": {},
   "source": [
    "### 12. Find the Cumulative Sum of a List where the ith Element is the Sum of the First i+1 Elements From The Original List."
   ]
  },
  {
   "cell_type": "code",
   "execution_count": 12,
   "metadata": {},
   "outputs": [
    {
     "name": "stdout",
     "output_type": "stream",
     "text": [
      "Original List:  [1, 2, 3, 4, 5, 6, 7, 8, 9, 10]\n",
      "New List:  [1, 3, 6, 10, 15, 21, 28, 36, 45, 55]\n"
     ]
    }
   ],
   "source": [
    "original_list = list(range(1,11))\n",
    "result_list = []\n",
    "l = len(original_list)\n",
    "sum_element = 0\n",
    "\n",
    "for i in range(0,l):\n",
    "    \n",
    "    sum_element += original_list[i]\n",
    "    result_list.append(sum_element)\n",
    "    \n",
    "print('Original List: ',original_list)\n",
    "print('New List: ',result_list)"
   ]
  },
  {
   "cell_type": "markdown",
   "metadata": {},
   "source": [
    "### 13. Generate Random Numbers from 1 to 20 and Append Them to the List."
   ]
  },
  {
   "cell_type": "code",
   "execution_count": 13,
   "metadata": {},
   "outputs": [
    {
     "name": "stdout",
     "output_type": "stream",
     "text": [
      "Enter the length of the list you want to create: 10\n",
      "[13, 15, 16, 15, 8, 11, 9, 13, 4, 12]\n"
     ]
    }
   ],
   "source": [
    "list14 = []\n",
    "import random\n",
    "length = int(input('Enter the length of the list you want to create: '))\n",
    "\n",
    "for i in range(0,length):\n",
    "    list14.append(random.randint(1,21))\n",
    "print(list14)"
   ]
  },
  {
   "cell_type": "markdown",
   "metadata": {},
   "source": [
    "### 14. Sort a List of Tuples in Increasing Order by the Last Element in Each Tuple."
   ]
  },
  {
   "cell_type": "code",
   "execution_count": 14,
   "metadata": {},
   "outputs": [
    {
     "name": "stdout",
     "output_type": "stream",
     "text": [
      "[(1, 2, 0), (9, 4, 1), (4, 3), (7, 9), (8, 11), (11, 14), (56, 34)]\n"
     ]
    }
   ],
   "source": [
    "list15 = [(1,2,0),(4,3),(9,4,1),(7,9),(11,14),(8,11),(56,34)]\n",
    "\n",
    "sorted_list = sorted(list15, key = lambda tup: tup[-1])\n",
    "\n",
    "print(sorted_list)"
   ]
  },
  {
   "cell_type": "markdown",
   "metadata": {},
   "source": [
    "### 15. Swap the First and Last Value of a List."
   ]
  },
  {
   "cell_type": "code",
   "execution_count": 15,
   "metadata": {},
   "outputs": [
    {
     "name": "stdout",
     "output_type": "stream",
     "text": [
      "['hello', 2, 3, 4, 5, 6, 7, 8, (1, 1)]\n"
     ]
    }
   ],
   "source": [
    "list17 = [(1,1),2,3,4,5,6,7,8,'hello']\n",
    "\n",
    "temp = list17[-1]\n",
    "list17[-1] = list17[0]\n",
    "list17[0] = temp\n",
    "\n",
    "print(list17)"
   ]
  },
  {
   "cell_type": "markdown",
   "metadata": {},
   "source": [
    "### 16. Remove the Duplicate Items from a List."
   ]
  },
  {
   "cell_type": "code",
   "execution_count": 16,
   "metadata": {},
   "outputs": [
    {
     "name": "stdout",
     "output_type": "stream",
     "text": [
      "Original List:  [1, 2, 4.0, 5, 'h', 4.0, 'i', 'x', 9.3, 'h']\n",
      "Unique Element List:  ['i', 1, 2, 4.0, 5, 'x', 9.3, 'h']\n"
     ]
    }
   ],
   "source": [
    "list18 = [1,2,4.0,5,'h',4.0,'i','x',9.3,'h']\n",
    "print('Original List: ',list18)\n",
    "\n",
    "unique_list18 = list(set(list18))\n",
    "print('Unique Element List: ',unique_list18)"
   ]
  },
  {
   "cell_type": "markdown",
   "metadata": {},
   "source": [
    "### 17. Read a List of Words and Return the Length of the Longest One."
   ]
  },
  {
   "cell_type": "code",
   "execution_count": 17,
   "metadata": {},
   "outputs": [
    {
     "name": "stdout",
     "output_type": "stream",
     "text": [
      "Enter the words separated by comma, without using whitespace: hello,my,name,is,sanjay\n",
      "\n",
      "The longest word in the given list is 'sanjay' with the length of 6 characters!\n"
     ]
    }
   ],
   "source": [
    "word_list = input('Enter the words separated by comma, without using whitespace: ').split(',')\n",
    "longest_word = word_list[0]\n",
    "length = len(longest_word)\n",
    "\n",
    "for word in word_list:\n",
    "    if len(word) > length:\n",
    "        longest_word = word\n",
    "        length = len(word)\n",
    "\n",
    "print(f\"\\nThe longest word in the given list is '{longest_word}' with the length of {length} characters!\")\n"
   ]
  },
  {
   "cell_type": "markdown",
   "metadata": {},
   "source": [
    "### 18. Remove the ith Occurrence of the Given Word in a List where Words can Repeat."
   ]
  },
  {
   "cell_type": "code",
   "execution_count": 18,
   "metadata": {},
   "outputs": [
    {
     "name": "stdout",
     "output_type": "stream",
     "text": [
      "Enter the words exactly separated by one & only whitespace (' '): can you can a can ?\n",
      "['can', 'you', 'can', 'a', 'can', '?']\n",
      "Enter the word you wish to remove: can\n",
      "Enter the occurrence of the above word you wish to remove: 2\n",
      "\n",
      "Updated List is:  ['can', 'you', 'a', 'can', '?']\n"
     ]
    }
   ],
   "source": [
    "word_list = input(\"Enter the words exactly separated by one & only whitespace (' '): \").split(' ')\n",
    "print(word_list, end='\\n')\n",
    "given_word = input(\"Enter the word you wish to remove: \")\n",
    "occurrence = int(input(\"Enter the occurrence of the above word you wish to remove: \"))\n",
    "\n",
    "def remove_ith_word(lst,givn_word,i):\n",
    "    count = 0\n",
    "    new_list = []\n",
    "    \n",
    "    for word in lst:\n",
    "        if word == givn_word:\n",
    "            count += 1\n",
    "            if count != i:\n",
    "                new_list.append(word)\n",
    "        else:\n",
    "            new_list.append(word)\n",
    "    \n",
    "    lst = new_list\n",
    "    \n",
    "    if count == 0:\n",
    "        print(\"\\nWord not found!\")\n",
    "    else:\n",
    "        print(\"\\nUpdated List is: \",lst)\n",
    "    \n",
    "remove_ith_word(word_list,given_word,occurrence)        "
   ]
  },
  {
   "cell_type": "markdown",
   "metadata": {},
   "source": [
    "### 19. Remove All Tuples in a List of Tuples with the USN Outside the Given Range."
   ]
  },
  {
   "cell_type": "code",
   "execution_count": 19,
   "metadata": {},
   "outputs": [
    {
     "name": "stdout",
     "output_type": "stream",
     "text": [
      "Enter the lower range: 20\n",
      "Enter the upper range: 60\n",
      "\n",
      "Revised Tuple list excluding elements outside the range:  [('b', 20), ('c', 30), ('d', 40), ('e', 50)]\n"
     ]
    }
   ],
   "source": [
    "original_tuple = [('a',10),('b',20),('c',30),('d',40),('e',50),('f',100),('g',80)]\n",
    "l = len(original_tuple)\n",
    "lower = int(input('Enter the lower range: '))\n",
    "upper = int(input('Enter the upper range: '))\n",
    "revised_tuple = []\n",
    "\n",
    "for i in range(0,l):\n",
    "    if original_tuple[i][-1] >= lower and original_tuple[i][-1] <= upper:\n",
    "        revised_tuple.append(original_tuple[i])\n",
    "        \n",
    "print('\\nRevised Tuple list excluding elements outside the range: ',revised_tuple)"
   ]
  },
  {
   "cell_type": "markdown",
   "metadata": {},
   "source": [
    "### 20. Solve Maximum Subarray Problem using Divide and Conquer."
   ]
  },
  {
   "cell_type": "code",
   "execution_count": 20,
   "metadata": {},
   "outputs": [
    {
     "name": "stdout",
     "output_type": "stream",
     "text": [
      "Maximum contiguous sum is 13\n"
     ]
    }
   ],
   "source": [
    "def max_crossing_sum(array, lowest, middle, highest) : \n",
    "    '''\n",
    "    returns the sum of elements on left and right of middle...\n",
    "    array: list of elements\n",
    "    '''  \n",
    "    sm = 0\n",
    "    left_sum = -1e1000\n",
    "      \n",
    "    for i in range(middle, lowest-1, -1): \n",
    "        sm += array[i]\n",
    "          \n",
    "        if sm > left_sum:\n",
    "            left_sum = sm \n",
    "      \n",
    "      \n",
    "    sm = 0\n",
    "    right_sum = -1e1000\n",
    "    \n",
    "    for i in range(middle+1, highest+1) : \n",
    "        sm += array[i] \n",
    "          \n",
    "        if sm > right_sum: \n",
    "            right_sum = sm\n",
    "      \n",
    "    return left_sum + right_sum; \n",
    "\n",
    "def max_subarray_sum(array, lowest, highest):\n",
    "    '''\n",
    "    Returns the sum of maxium sum in subarray[lowest,highest]\n",
    "    '''\n",
    "     \n",
    "    if lowest == highest:\n",
    "        return arr[lowest]\n",
    "  \n",
    "    middle = (lowest + highest) // 2\n",
    "    \n",
    "    return max(max_subarray_sum(array, lowest, middle), \n",
    "               max_subarray_sum(array, middle+1, highest), \n",
    "               max_crossing_sum(array, lowest, middle, highest))\n",
    "\n",
    "arr = [2, 3, -1, -6, 4, 5, -3, 7] \n",
    "n = len(arr) \n",
    "  \n",
    "max_sum = max_subarray_sum(arr, 0, n-1) \n",
    "print(\"Maximum contiguous sum is\", max_sum)"
   ]
  },
  {
   "cell_type": "markdown",
   "metadata": {},
   "source": [
    "### 21. Solve Maximum Subarray Problem using Kadane’s Algorithm."
   ]
  },
  {
   "cell_type": "code",
   "execution_count": 21,
   "metadata": {},
   "outputs": [
    {
     "name": "stdout",
     "output_type": "stream",
     "text": [
      "Maximum contiguous sum is 7\n"
     ]
    }
   ],
   "source": [
    "max_sum_so_far = 0\n",
    "max_sum_ending_here = 0\n",
    "\n",
    "arr = [-2, -3, 4, -1, -2, 1, 5, -3]\n",
    "\n",
    "for i in range(0,len(arr)):\n",
    "    \n",
    "    max_sum_ending_here += arr[i]\n",
    "    \n",
    "    if max_sum_ending_here < 0:\n",
    "        max_sum_ending_here = 0\n",
    "    \n",
    "    if max_sum_so_far < max_sum_ending_here:\n",
    "        max_sum_so_far = max_sum_ending_here\n",
    "        \n",
    "print('Maximum contiguous sum is',max_sum_so_far)"
   ]
  },
  {
   "cell_type": "markdown",
   "metadata": {},
   "source": [
    "### 22. Find Element Occurring Odd Number of Times in a List."
   ]
  },
  {
   "cell_type": "code",
   "execution_count": 22,
   "metadata": {},
   "outputs": [
    {
     "name": "stdout",
     "output_type": "stream",
     "text": [
      "Element 'c' occurred 1 times in the list!\n",
      "Element 'd' occurred 1 times in the list!\n"
     ]
    }
   ],
   "source": [
    "lst = ['a','b','c','a','d','b']\n",
    "s1 = set(lst)\n",
    "\n",
    "for elem in s1:\n",
    "    if lst.count(elem) % 2 != 0:\n",
    "        print(f\"Element '{elem}' occurred {lst.count(elem)} times in the list!\")\n"
   ]
  }
 ],
 "metadata": {
  "kernelspec": {
   "display_name": "Python 3",
   "language": "python",
   "name": "python3"
  },
  "language_info": {
   "codemirror_mode": {
    "name": "ipython",
    "version": 3
   },
   "file_extension": ".py",
   "mimetype": "text/x-python",
   "name": "python",
   "nbconvert_exporter": "python",
   "pygments_lexer": "ipython3",
   "version": "3.7.3"
  }
 },
 "nbformat": 4,
 "nbformat_minor": 2
}
