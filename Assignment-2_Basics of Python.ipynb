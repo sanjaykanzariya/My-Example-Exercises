{
 "cells": [
  {
   "cell_type": "markdown",
   "metadata": {},
   "source": [
    "### 1. Calculate the Average of Numbers in a Given List."
   ]
  },
  {
   "cell_type": "code",
   "execution_count": 1,
   "metadata": {},
   "outputs": [
    {
     "data": {
      "text/plain": [
       "30.8"
      ]
     },
     "execution_count": 1,
     "metadata": {},
     "output_type": "execute_result"
    }
   ],
   "source": [
    "list1 = [19,22,35,24,54]\n",
    "\n",
    "def avg_of_numbers(lst):\n",
    "    return sum(lst)/len(lst)\n",
    "\n",
    "avg_of_numbers(list1)"
   ]
  },
  {
   "cell_type": "markdown",
   "metadata": {},
   "source": [
    "### 2. Exchange the Values of Two Numbers Without Using a Temporary Variable."
   ]
  },
  {
   "cell_type": "code",
   "execution_count": 2,
   "metadata": {},
   "outputs": [
    {
     "name": "stdout",
     "output_type": "stream",
     "text": [
      "Enter the value of a: 3\n",
      "Enter the value of b: 7\n",
      "Swapped values:\n",
      "a = 7\n",
      "b = 3\n"
     ]
    }
   ],
   "source": [
    "a = int(input('Enter the value of a: '))\n",
    "b = int(input('Enter the value of b: '))\n",
    "\n",
    "def swap_values(a,b):\n",
    "    a = a+b\n",
    "    b = a-b\n",
    "    a = a-b\n",
    "    return (a,b)\n",
    "a,b = swap_values(a,b)\n",
    "print(f'Swapped values:\\na = {a}\\nb = {b}')"
   ]
  },
  {
   "cell_type": "markdown",
   "metadata": {},
   "source": [
    "### 3. Read a Number n and Compute n+nn+nnn."
   ]
  },
  {
   "cell_type": "code",
   "execution_count": 3,
   "metadata": {},
   "outputs": [
    {
     "name": "stdout",
     "output_type": "stream",
     "text": [
      "Enter the number n: 10\n",
      "The result is =  1110\n"
     ]
    }
   ],
   "source": [
    "n = int(input('Enter the number n: '))\n",
    "\n",
    "result = n + n*n + n*n*n\n",
    "\n",
    "print('The result is = ',result)"
   ]
  },
  {
   "cell_type": "markdown",
   "metadata": {},
   "source": [
    "### 4. Reverse a Given Number."
   ]
  },
  {
   "cell_type": "code",
   "execution_count": 4,
   "metadata": {},
   "outputs": [
    {
     "name": "stdout",
     "output_type": "stream",
     "text": [
      "Enter any number: 123456789\n",
      "Reverse of the entered number is 987654321\n"
     ]
    }
   ],
   "source": [
    "n = int(input('Enter any number: '))\n",
    "\n",
    "if n < 0:\n",
    "    sign = -1\n",
    "else:\n",
    "    sign = 1\n",
    "\n",
    "n *= sign\n",
    "temp_n = n\n",
    "\n",
    "rev_numlist = []\n",
    "\n",
    "while n > 0:\n",
    "    remainder = n % 10\n",
    "    rev_numlist.append(remainder)\n",
    "    n = n//10\n",
    "\n",
    "result = ''.join([str(x) for x in rev_numlist])\n",
    "result = '-'+result if sign == -1 else result\n",
    "\n",
    "if temp_n//10 == 0:\n",
    "    print('The number is single digit only!')\n",
    "else:\n",
    "    print('Reverse of the entered number is {}'.format(result))"
   ]
  },
  {
   "cell_type": "markdown",
   "metadata": {},
   "source": [
    "### 5. Check Whether a Number is Positive or Negative."
   ]
  },
  {
   "cell_type": "code",
   "execution_count": 5,
   "metadata": {},
   "outputs": [
    {
     "name": "stdout",
     "output_type": "stream",
     "text": [
      "Enter the number: -10\n",
      "The entered number is Negative!\n"
     ]
    }
   ],
   "source": [
    "n = int(input('Enter the number: '))\n",
    "if n < 0:\n",
    "    print('The entered number is Negative!')\n",
    "else:\n",
    "    print('The entered number is Positive!')"
   ]
  },
  {
   "cell_type": "markdown",
   "metadata": {},
   "source": [
    "### 6. Take in the Marks of 5 Subjects and Display the Grade."
   ]
  },
  {
   "cell_type": "code",
   "execution_count": 6,
   "metadata": {},
   "outputs": [
    {
     "name": "stdout",
     "output_type": "stream",
     "text": [
      "Enter the marks obtained for subject-1: 87\n",
      "Enter the marks obtained for subject-2: 64\n",
      "Enter the marks obtained for subject-3: 75\n",
      "Enter the marks obtained for subject-4: 92\n",
      "Enter the marks obtained for subject-5: 56\n",
      "\n",
      "Percentile :  74.8\n",
      "The achieved Grade is A\n"
     ]
    }
   ],
   "source": [
    "sub1 = int(input('Enter the marks obtained for subject-1: '))\n",
    "sub2 = int(input('Enter the marks obtained for subject-2: '))\n",
    "sub3 = int(input('Enter the marks obtained for subject-3: '))\n",
    "sub4 = int(input('Enter the marks obtained for subject-4: '))\n",
    "sub5 = int(input('Enter the marks obtained for subject-5: '))\n",
    "\n",
    "total_marks = [sub1,sub2,sub3,sub4,sub5]\n",
    "percentile = sum(total_marks)/5\n",
    "\n",
    "print('\\nPercentile : ',percentile)\n",
    "\n",
    "if percentile >= 80:\n",
    "    print('The achieved Grade is A+')\n",
    "elif percentile >= 70 and percentile < 80:\n",
    "    print('The achieved Grade is A')\n",
    "elif percentile >= 60 and percentile < 70:\n",
    "    print('The achieved Grade is B+')\n",
    "elif percentile >= 50 and percentile < 60:\n",
    "    print('The achieved Grade is B')\n",
    "elif percentile >= 45 and percentile < 50:\n",
    "    print('The achieved Grade is C+')\n",
    "elif percentile >= 40 and percentile < 45:\n",
    "    print('The achieved Grade is C')\n",
    "elif percentile >= 35 and percentile < 40:\n",
    "    print('The achieved Grade is D')\n",
    "else:\n",
    "    print('You have failed! :(')"
   ]
  },
  {
   "cell_type": "markdown",
   "metadata": {},
   "source": [
    "### 7. Print all Numbers in a Range Divisible by a Given Number."
   ]
  },
  {
   "cell_type": "code",
   "execution_count": 7,
   "metadata": {},
   "outputs": [
    {
     "name": "stdout",
     "output_type": "stream",
     "text": [
      "Enter the divisor number: 3\n",
      "Enter the lower range: 1\n",
      "Enter the upper range: 48\n",
      "\n",
      "All the possible dividend numbers between 1 and 48 are: 16\n",
      "[3, 6, 9, 12, 15, 18, 21, 24, 27, 30, 33, 36, 39, 42, 45, 48]\n"
     ]
    }
   ],
   "source": [
    "divisor = int(input('Enter the divisor number: '))\n",
    "range_low = int(input('Enter the lower range: '))\n",
    "range_high = int(input('Enter the upper range: '))\n",
    "possible_dividend = []\n",
    "\n",
    "while divisor == 0:\n",
    "    divisor = int(input('Cannot divide by zero. Enter the divisor number again: '))\n",
    "\n",
    "while (range_high-range_low) <= 0:\n",
    "    print('Range is inappropriate! Kindly enter again.')\n",
    "    range_low = int(input('Enter the lower range: '))\n",
    "    range_high = int(input('Enter the upper range: '))\n",
    "\n",
    "for num in range(range_low, range_high+1):\n",
    "    if num % divisor == 0:\n",
    "        possible_dividend.append(num)\n",
    "\n",
    "print(f'\\nAll the possible dividend numbers between {range_low} and {range_high} are: {len(possible_dividend)}')\n",
    "print(possible_dividend)"
   ]
  },
  {
   "cell_type": "markdown",
   "metadata": {},
   "source": [
    "### 8. Read Two Numbers and Print Their Quotient and Remainder."
   ]
  },
  {
   "cell_type": "code",
   "execution_count": 8,
   "metadata": {},
   "outputs": [
    {
     "name": "stdout",
     "output_type": "stream",
     "text": [
      "Enter the first number: 11\n",
      "Enter the second number: 2\n",
      "\n",
      "The Quotient is 5 and the Remainder is 1\n"
     ]
    }
   ],
   "source": [
    "num1 = int(input('Enter the first number: '))\n",
    "num2 = int(input('Enter the second number: '))\n",
    "\n",
    "while num2 == 0:\n",
    "    num2 = int(input('Kindly enter any other number other than zero: '))\n",
    "    \n",
    "import math\n",
    "quotient = math.floor(num1/num2)\n",
    "remainder = num1%num2\n",
    "\n",
    "print(f'\\nThe Quotient is {quotient} and the Remainder is {remainder}')"
   ]
  },
  {
   "cell_type": "markdown",
   "metadata": {},
   "source": [
    "### 9. Accept Three Digits and Print all Possible Combinations from the Digits."
   ]
  },
  {
   "cell_type": "code",
   "execution_count": 9,
   "metadata": {},
   "outputs": [
    {
     "name": "stdout",
     "output_type": "stream",
     "text": [
      "Enter first digit: 1\n",
      "Enter second digit: 2\n",
      "Enter third digit: 3\n",
      "[1 2 3]\n",
      "[1 3 2]\n",
      "[2 1 3]\n",
      "[2 3 1]\n",
      "[3 1 2]\n",
      "[3 2 1]\n"
     ]
    }
   ],
   "source": [
    "digit1 = int(input('Enter first digit: '))\n",
    "digit2 = int(input('Enter second digit: '))\n",
    "digit3 = int(input('Enter third digit: '))\n",
    "\n",
    "combination_list = [digit1, digit2, digit3]\n",
    "\n",
    "for i in range(0, 3):\n",
    "    for j in range(0, 3):\n",
    "        for k in range(0, 3):\n",
    "            if(i != j and j != k and k != i):\n",
    "                print(f\"[{combination_list[i]} {combination_list[j]} {combination_list[k]}]\")"
   ]
  },
  {
   "cell_type": "markdown",
   "metadata": {},
   "source": [
    "### 10. Print Odd Numbers Within a Given Range."
   ]
  },
  {
   "cell_type": "code",
   "execution_count": 10,
   "metadata": {},
   "outputs": [
    {
     "name": "stdout",
     "output_type": "stream",
     "text": [
      "Enter lower range: 1\n",
      "Enter upper range: 50\n",
      "All the Odd Numbers between 1 and 50 are:\n",
      "[1, 3, 5, 7, 9, 11, 13, 15, 17, 19, 21, 23, 25, 27, 29, 31, 33, 35, 37, 39, 41, 43, 45, 47, 49]\n"
     ]
    }
   ],
   "source": [
    "range_l = int(input('Enter lower range: '))\n",
    "range_u = int(input('Enter upper range: '))\n",
    "\n",
    "while (range_u-range_l) <= 0:\n",
    "    print('Enter the range appropriately!')\n",
    "    range_l = int(input('Enter lower range: '))\n",
    "    range_u = int(input('Enter upper range: '))\n",
    "\n",
    "odd_numlist = []\n",
    "\n",
    "for i in range(range_l, range_u+1):\n",
    "    if i % 2 != 0:\n",
    "        odd_numlist.append(i)\n",
    "        \n",
    "print(f'All the Odd Numbers between {range_l} and {range_u} are:')\n",
    "print(odd_numlist)"
   ]
  },
  {
   "cell_type": "markdown",
   "metadata": {},
   "source": [
    "### 11. Find the Sum of Digits in a Number."
   ]
  },
  {
   "cell_type": "code",
   "execution_count": 11,
   "metadata": {},
   "outputs": [
    {
     "name": "stdout",
     "output_type": "stream",
     "text": [
      "Enter the number: 1100\n",
      "The sum of all digit/(s) is = 2\n"
     ]
    }
   ],
   "source": [
    "num = int(input('Enter the number: '))\n",
    "remainder = 0\n",
    "sum_of_digits = 0\n",
    "\n",
    "while num > 0:\n",
    "    remainder = num % 10\n",
    "    num = num//10\n",
    "    sum_of_digits += remainder\n",
    "\n",
    "print(f'The sum of all digit/(s) is = {sum_of_digits}')"
   ]
  },
  {
   "cell_type": "markdown",
   "metadata": {},
   "source": [
    "### 12. Find the Smallest Divisor of an Integer."
   ]
  },
  {
   "cell_type": "code",
   "execution_count": 12,
   "metadata": {},
   "outputs": [
    {
     "name": "stdout",
     "output_type": "stream",
     "text": [
      "Enter the integer: 121\n",
      "The smallest divisor of 121 is 11.\n"
     ]
    }
   ],
   "source": [
    "integer = int(input('Enter the integer: '))\n",
    "\n",
    "while integer == 0:\n",
    "    integer = int(input('Kindly enter any number other than zero: '))\n",
    "\n",
    "if integer == 1:\n",
    "    print('The smallest divisor of 1 is 1.')\n",
    "else:\n",
    "    for i in range(2,integer+1):\n",
    "        if integer % i == 0:\n",
    "            print(f'The smallest divisor of {integer} is {i}.')\n",
    "            break"
   ]
  },
  {
   "cell_type": "markdown",
   "metadata": {},
   "source": [
    "### 13. Count the Number of Digits in a Number."
   ]
  },
  {
   "cell_type": "code",
   "execution_count": 13,
   "metadata": {},
   "outputs": [
    {
     "name": "stdout",
     "output_type": "stream",
     "text": [
      "Enter the number: 12345\n",
      "Number of digit/(s) in given number is/are 5.\n"
     ]
    }
   ],
   "source": [
    "number = int(input('Enter the number: '))\n",
    "len_of_num = 0\n",
    "temp_num = number\n",
    "\n",
    "if number < 0:\n",
    "    number = number*(-1)\n",
    "elif number == 0:\n",
    "    print('Number of digit/(s) in given number is/are 1.')\n",
    "#else:\n",
    "while number != 0:\n",
    "    number = number//10\n",
    "    len_of_num += 1\n",
    "\n",
    "if temp_num == 0:\n",
    "    pass\n",
    "else:\n",
    "    print(f'Number of digit/(s) in given number is/are {len_of_num}.')"
   ]
  },
  {
   "cell_type": "markdown",
   "metadata": {},
   "source": [
    "### 14. Check if a Number is a Palindrome."
   ]
  },
  {
   "cell_type": "code",
   "execution_count": 14,
   "metadata": {},
   "outputs": [
    {
     "name": "stdout",
     "output_type": "stream",
     "text": [
      "Enter the number to check: -121\n",
      "The number -121 is palindrome!\n"
     ]
    }
   ],
   "source": [
    "number = int(input('Enter the number to check: '))\n",
    "remainder = 0\n",
    "\n",
    "original_digitlist = []\n",
    "reverse_digitlist = []\n",
    "\n",
    "def num_len_check(num):\n",
    "    num_len = 0\n",
    "    while num != 0:\n",
    "        #print(temp_num)\n",
    "        num = abs(num)//10\n",
    "        num_len += 1\n",
    "    return num_len\n",
    "\n",
    "while num_len_check(number) < 3:\n",
    "    number = int(input('Number is too short to check, please enter at least 3-digit number: '))\n",
    "\n",
    "temp_num = number\n",
    "number = abs(number)\n",
    "\n",
    "while number > 0:\n",
    "    remainder = number%10\n",
    "    original_digitlist.append(remainder)\n",
    "    reverse_digitlist.append(remainder)\n",
    "    number = number//10\n",
    "\n",
    "original_digitlist.reverse()\n",
    "\n",
    "if original_digitlist == reverse_digitlist:\n",
    "    print(f'The number {temp_num} is palindrome!')\n",
    "else:\n",
    "    print(f'The number {temp_num} is not palindrome!')"
   ]
  },
  {
   "cell_type": "markdown",
   "metadata": {},
   "source": [
    "### 15. Print all Integers that Aren't Divisible by Either 2 or 3 and Lie between 1 and 50."
   ]
  },
  {
   "cell_type": "code",
   "execution_count": 15,
   "metadata": {},
   "outputs": [
    {
     "name": "stdout",
     "output_type": "stream",
     "text": [
      "The numbers between 1 and 50 which are not divisible by either 2 or 3:\n",
      " [1, 5, 7, 11, 13, 17, 19, 23, 25, 29, 31, 35, 37, 41, 43, 47, 49]\n"
     ]
    }
   ],
   "source": [
    "list_of_numbers = []\n",
    "\n",
    "for i in range(1,51):\n",
    "    if i % 2 == 0 or i % 3 == 0:\n",
    "        continue\n",
    "    else:\n",
    "        list_of_numbers.append(i)\n",
    "print('The numbers between 1 and 50 which are not divisible by either 2 or 3:\\n',list_of_numbers)    "
   ]
  },
  {
   "cell_type": "markdown",
   "metadata": {},
   "source": [
    "### 16. Read a Number n And Print the Series \"1+2+…..+n= \"."
   ]
  },
  {
   "cell_type": "code",
   "execution_count": 16,
   "metadata": {},
   "outputs": [
    {
     "name": "stdout",
     "output_type": "stream",
     "text": [
      "Enter the number: 10\n",
      "1 + 2 + 3 + 4 + 5 + 6 + 7 + 8 + 9 + 10 = 55\n"
     ]
    }
   ],
   "source": [
    "n = int(input('Enter the number: '))\n",
    "series = []\n",
    "i = 1\n",
    "total_sum = 0\n",
    "\n",
    "while n < 2:\n",
    "    n = int(input('Kindly enter the number >= 2: '))\n",
    "\n",
    "while i <= n:\n",
    "    \n",
    "    series.append(str(i))\n",
    "    total_sum += i\n",
    "    i += 1\n",
    "\n",
    "print(' + '.join(series)+' = '+str(total_sum))"
   ]
  },
  {
   "cell_type": "markdown",
   "metadata": {},
   "source": [
    "### 17. Read a Number n and Print the Natural Numbers Summation Pattern."
   ]
  },
  {
   "cell_type": "code",
   "execution_count": 17,
   "metadata": {},
   "outputs": [
    {
     "name": "stdout",
     "output_type": "stream",
     "text": [
      "Enter the number: 10\n",
      "\n",
      "Natural Number Summation Pattern, n(n+1)/2 = 10(10+1)/2 = 55\n"
     ]
    }
   ],
   "source": [
    "n = int(input('Enter the number: '))\n",
    "\n",
    "# Natural Numbers Summation formula = n(n+1)/2\n",
    "\n",
    "while n < 2:\n",
    "    n = int(input('Kindly enter the number >= 2: '))\n",
    "\n",
    "total_sum = (n*(n+1))/2\n",
    "\n",
    "print(f'\\nNatural Number Summation Pattern, n(n+1)/2 = {n}({n}+1)/2 = {int(total_sum)}')"
   ]
  },
  {
   "cell_type": "markdown",
   "metadata": {},
   "source": [
    "### 18. Print an Identity Matrix."
   ]
  },
  {
   "cell_type": "code",
   "execution_count": 18,
   "metadata": {},
   "outputs": [
    {
     "name": "stdout",
     "output_type": "stream",
     "text": [
      "Enter the number for Identity Matrix dimension: 3\n",
      "1 0 0 \n",
      "0 1 0 \n",
      "0 0 1 \n"
     ]
    }
   ],
   "source": [
    "dimension = int(input('Enter the number for Identity Matrix dimension: '))\n",
    "\n",
    "while dimension < 2:\n",
    "    dimension = int(input('Number cannot be less than 2. Kindly enter again: '))\n",
    "\n",
    "for row in range(0,dimension):\n",
    "    for col in range(0,dimension):\n",
    "        if row == col:\n",
    "            print('1', end = ' ')\n",
    "        else:\n",
    "            print('0', end = ' ')\n",
    "    print()\n",
    "    "
   ]
  },
  {
   "cell_type": "markdown",
   "metadata": {},
   "source": [
    "### 19. Print an Inverted Star Pattern."
   ]
  },
  {
   "cell_type": "code",
   "execution_count": 19,
   "metadata": {},
   "outputs": [
    {
     "name": "stdout",
     "output_type": "stream",
     "text": [
      "Enter the dimension to print inverted star: 5\n",
      "\n",
      "*****\n",
      "****\n",
      "***\n",
      "**\n",
      "*\n"
     ]
    }
   ],
   "source": [
    "size = int(input('Enter the dimension to print inverted star: '))\n",
    "\n",
    "while size < 2:\n",
    "    size = int(input('Size is too short, kindly enter again: '))\n",
    "\n",
    "char = '*'\n",
    "print()\n",
    "\n",
    "for i in range(size,0,-1):\n",
    "    print(char*i)\n",
    "    "
   ]
  },
  {
   "cell_type": "markdown",
   "metadata": {},
   "source": [
    "### 20. Read Print Prime Numbers in a Range using Sieve of Eratosthenes."
   ]
  },
  {
   "cell_type": "code",
   "execution_count": 20,
   "metadata": {},
   "outputs": [
    {
     "name": "stdout",
     "output_type": "stream",
     "text": [
      "Enter the number: 10\n",
      "\n",
      "Following are the prime numbers smaller than or equal to  10\n",
      "2 3 5 7 "
     ]
    }
   ],
   "source": [
    "n = int(input('Enter the number: '))\n",
    "\n",
    "while n < 3:\n",
    "    n = int(input('Kindly enter the number >= 3: '))\n",
    "\n",
    "def SieveOfEratosthenes(n): \n",
    "     \n",
    "    prime = [True for i in range(n+1)]\n",
    "    p = 2\n",
    "    while (p * p <= n): \n",
    "          \n",
    "        # If prime[p] is not changed, then it is a prime \n",
    "        if (prime[p] == True): \n",
    "              \n",
    "            # Update all multiples of p \n",
    "            for i in range(p * p, n+1, p): \n",
    "                prime[i] = False\n",
    "        p += 1\n",
    "      \n",
    "    # Print all prime numbers \n",
    "    print('\\nFollowing are the prime numbers smaller than or equal to ',n)\n",
    "    \n",
    "    for p in range(2, n+1): \n",
    "        if prime[p]: \n",
    "            print(p, end=' ')\n",
    "\n",
    "SieveOfEratosthenes(n) "
   ]
  }
 ],
 "metadata": {
  "kernelspec": {
   "display_name": "Python 3",
   "language": "python",
   "name": "python3"
  },
  "language_info": {
   "codemirror_mode": {
    "name": "ipython",
    "version": 3
   },
   "file_extension": ".py",
   "mimetype": "text/x-python",
   "name": "python",
   "nbconvert_exporter": "python",
   "pygments_lexer": "ipython3",
   "version": "3.7.3"
  }
 },
 "nbformat": 4,
 "nbformat_minor": 2
}
