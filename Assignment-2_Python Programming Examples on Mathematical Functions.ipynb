{
 "cells": [
  {
   "cell_type": "markdown",
   "metadata": {},
   "source": [
    "The following section contains programs on different types of mathematical functions. These include programs to checks whether the given number is strong number, perfect number, prime number or armstrong number. It also checks whether a given year is leap year or not. \n",
    "<br>The Python programming examples also covers programs on performing simple interest with given values, printing the largest even and odd number in the given list. \n",
    "<br>Python programs on number conversions like converting celcius temperature to farenheit temperature, gray code to binary and binary code to gray.\n",
    "<br>This section also covers python programs on finding the lcm and gcd of two numbers and also checks whether the two given numbers are amicable numbers or not. The other programs in this section prints all prime numbers in a given range, print the pascal triangle, programs on trigonometric functions such as sin(x) and cos(x)."
   ]
  },
  {
   "cell_type": "markdown",
   "metadata": {},
   "source": [
    "### 1. Check if a Date is Valid and Print the Incremented Date if it is."
   ]
  },
  {
   "cell_type": "code",
   "execution_count": 10,
   "metadata": {},
   "outputs": [
    {
     "name": "stdout",
     "output_type": "stream",
     "text": [
      "Enter the date in format dd/mm/yyyy: 31/12/2019\n",
      "The entered date is valid!\n"
     ]
    }
   ],
   "source": [
    "import datetime\n",
    "\n",
    "inputdate = input('Enter the date in format dd/mm/yyyy: ')\n",
    "\n",
    "date, month, year = inputdate.split('/')\n",
    "is_valid_date = True\n",
    "\n",
    "try:\n",
    "    datetime.datetime(int(year),int(month),int(date))\n",
    "except ValueError:\n",
    "    is_valid_date = False\n",
    "\n",
    "if is_valid_date:\n",
    "    print('The entered date is valid!')\n",
    "else:\n",
    "    print('The entered date is not valid!')"
   ]
  },
  {
   "cell_type": "markdown",
   "metadata": {},
   "source": [
    "### 2. Compute Simple Interest Given all the Required Values."
   ]
  },
  {
   "cell_type": "code",
   "execution_count": 16,
   "metadata": {},
   "outputs": [
    {
     "name": "stdout",
     "output_type": "stream",
     "text": [
      "Enter the principal amount (in $): 10000\n",
      "Enter the annual rate of interest (in %): 8.2\n",
      "Enter the time period (in # of years): 2\n",
      "\n",
      "The simple interest earned = $ 1640.00\n"
     ]
    }
   ],
   "source": [
    "principal = float(input('Enter the principal amount (in $): '))\n",
    "rate_of_interest = float(input('Enter the annual rate of interest (in %): '))\n",
    "time_period = float(input('Enter the time period (in # of years): '))\n",
    "\n",
    "simple_interest = (principal)*(rate_of_interest/100)*(time_period)\n",
    "\n",
    "print(f'\\nThe simple interest earned = $ {simple_interest:.2f}')"
   ]
  },
  {
   "cell_type": "markdown",
   "metadata": {},
   "source": [
    "### 3. Check Whether a Given Year is a Leap Year."
   ]
  },
  {
   "cell_type": "code",
   "execution_count": 23,
   "metadata": {},
   "outputs": [
    {
     "name": "stdout",
     "output_type": "stream",
     "text": [
      "Enter the year value: 2020\n",
      "The given year is a leap year!\n"
     ]
    }
   ],
   "source": [
    "year = int(input('Enter the year value: '))\n",
    "\n",
    "is_leap_year = False\n",
    "\n",
    "if year % 4 != 0:\n",
    "    is_leap_year = False\n",
    "elif year % 100 != 0:\n",
    "    is_leap_year = True\n",
    "elif year % 400 != 0:\n",
    "    is_leap_year = False\n",
    "else:\n",
    "    is_leap_year = True\n",
    "    \n",
    "if is_leap_year:\n",
    "    print('The given year is a leap year!')\n",
    "else:\n",
    "    print('The given year is not a leap year!')"
   ]
  },
  {
   "cell_type": "markdown",
   "metadata": {},
   "source": [
    "### 4. Read Height in Centimeters and then Convert the Height to Feet and Inches."
   ]
  },
  {
   "cell_type": "code",
   "execution_count": 45,
   "metadata": {},
   "outputs": [
    {
     "name": "stdout",
     "output_type": "stream",
     "text": [
      "Enter the height in centimeter: 172\n",
      "\n",
      "The height in inches only = 67.72 inches\n",
      "The height in feet only   = 5.64 feet\n",
      "The feet/inches height    = 5 ft 8 in\n"
     ]
    }
   ],
   "source": [
    "import math\n",
    "\n",
    "cm = float(input('Enter the height in centimeter: '))\n",
    "\n",
    "inches = 0.3937 * cm\n",
    "feet = inches / 12\n",
    "\n",
    "ft_in_feet_inches = math.floor(feet)\n",
    "in_in_feet_inches = math.ceil((feet - ft_in_feet_inches)*12)\n",
    "\n",
    "print(f'\\nThe height in inches only = {inches:.2f} inches')\n",
    "print(f'The height in feet only   = {feet:.2f} feet')\n",
    "print(f'The feet/inches height    = {ft_in_feet_inches} ft {in_in_feet_inches} in')"
   ]
  },
  {
   "cell_type": "markdown",
   "metadata": {},
   "source": [
    "### 5. Take the Temperature in Celcius and Covert it to Farenheit."
   ]
  },
  {
   "cell_type": "code",
   "execution_count": 47,
   "metadata": {},
   "outputs": [
    {
     "name": "stdout",
     "output_type": "stream",
     "text": [
      "Enter the temperature in °C: 37\n",
      "\n",
      "Equivalent Fahrenheit Temperature is 98.60 °F\n"
     ]
    }
   ],
   "source": [
    "celcius = float(input('Enter the temperature in °C: '))\n",
    "\n",
    "fahrenheit = (celcius * 1.8) + 32\n",
    "\n",
    "print(f'\\nEquivalent Fahrenheit Temperature is {fahrenheit:.2f} °F')"
   ]
  },
  {
   "cell_type": "markdown",
   "metadata": {},
   "source": [
    "### 6. Compute Prime Factors of an Integer."
   ]
  },
  {
   "cell_type": "code",
   "execution_count": 92,
   "metadata": {},
   "outputs": [
    {
     "name": "stdout",
     "output_type": "stream",
     "text": [
      "Enter the number: 12\n",
      "2 2 3\n"
     ]
    }
   ],
   "source": [
    "n = int(input('Enter the number: '))\n",
    "\n",
    "while n < 2:\n",
    "    n = int(input('Kindly enter the number > 1: '))\n",
    "\n",
    "while n % 2 == 0:\n",
    "    print(2, end=' ')\n",
    "    n = n / 2\n",
    "\n",
    "for i in range(3,int(math.sqrt(n))+1,2):\n",
    "    \n",
    "    while n % i == 0:\n",
    "        print(i,end=' ')\n",
    "        n = n / i\n",
    "if n > 2:\n",
    "    print(int(n))"
   ]
  },
  {
   "cell_type": "markdown",
   "metadata": {},
   "source": [
    "### 7. Generate all the Divisors of an Integer."
   ]
  },
  {
   "cell_type": "code",
   "execution_count": 3,
   "metadata": {},
   "outputs": [
    {
     "name": "stdout",
     "output_type": "stream",
     "text": [
      "Enter the number: 171\n",
      "1\n",
      "3\n",
      "9\n",
      "19\n",
      "57\n",
      "171\n"
     ]
    }
   ],
   "source": [
    "n = int(input('Enter the number: '))\n",
    "\n",
    "for i in range(1, n+1):\n",
    "    if n % i == 0:\n",
    "        print(i)"
   ]
  },
  {
   "cell_type": "markdown",
   "metadata": {},
   "source": [
    "### 8. Print Table of a Given Number."
   ]
  },
  {
   "cell_type": "code",
   "execution_count": 5,
   "metadata": {},
   "outputs": [
    {
     "name": "stdout",
     "output_type": "stream",
     "text": [
      "Enter the number: 10\n",
      "10 x 1 = 10\n",
      "10 x 2 = 20\n",
      "10 x 3 = 30\n",
      "10 x 4 = 40\n",
      "10 x 5 = 50\n",
      "10 x 6 = 60\n",
      "10 x 7 = 70\n",
      "10 x 8 = 80\n",
      "10 x 9 = 90\n",
      "10 x 10 = 100\n"
     ]
    }
   ],
   "source": [
    "n = int(input('Enter the number: '))\n",
    "\n",
    "for i in range(1,11):\n",
    "    print(f'{n} x {i} = {n*i}')"
   ]
  },
  {
   "cell_type": "markdown",
   "metadata": {},
   "source": [
    "### 9. Print Sum of Negative Numbers, Positive Even Numbers and Positive Odd numbers in a List."
   ]
  },
  {
   "cell_type": "code",
   "execution_count": 6,
   "metadata": {},
   "outputs": [
    {
     "name": "stdout",
     "output_type": "stream",
     "text": [
      "Sum of all negative numbers = -3\n",
      "Sum of all positive even numbers = 6\n",
      "Sum of all positive odd numbers = 9\n"
     ]
    }
   ],
   "source": [
    "lst = [-1,-2,1,2,3,4,5]\n",
    "sum_negative_numbers = 0\n",
    "sum_positive_odd_nums = 0\n",
    "sum_positive_even_nums = 0\n",
    "\n",
    "for num in lst:\n",
    "    if num <= 0:\n",
    "        sum_negative_numbers += num\n",
    "    elif num % 2 == 0:\n",
    "        sum_positive_even_nums += num\n",
    "    else:\n",
    "        sum_positive_odd_nums += num\n",
    "\n",
    "print(f'Sum of all negative numbers = {sum_negative_numbers}')\n",
    "print(f'Sum of all positive even numbers = {sum_positive_even_nums}')\n",
    "print(f'Sum of all positive odd numbers = {sum_positive_odd_nums}')"
   ]
  },
  {
   "cell_type": "markdown",
   "metadata": {},
   "source": [
    "### 10. Print Largest Even and Largest Odd Number in a List."
   ]
  },
  {
   "cell_type": "code",
   "execution_count": 13,
   "metadata": {},
   "outputs": [
    {
     "name": "stdout",
     "output_type": "stream",
     "text": [
      "The largest even number in the list : 9998\n",
      "The largest odd number in the list : 4215\n"
     ]
    }
   ],
   "source": [
    "my_list = [12,45,23,974,812,4215,2312,9998]\n",
    "\n",
    "odd_list = []\n",
    "even_list = []\n",
    "\n",
    "for num in my_list:\n",
    "    if num%2 == 0:\n",
    "        even_list.append(num)\n",
    "    else:\n",
    "        odd_list.append(num)\n",
    "\n",
    "print(f'The largest even number in the list : {max(even_list)}')\n",
    "print(f'The largest odd number in the list : {max(odd_list)}')"
   ]
  },
  {
   "cell_type": "markdown",
   "metadata": {},
   "source": [
    "### 11. Form an Integer that has the Number of Digits at Ten's Place and the Least Significant Digit of the Entered Integer at One's Place."
   ]
  },
  {
   "cell_type": "code",
   "execution_count": 22,
   "metadata": {},
   "outputs": [
    {
     "name": "stdout",
     "output_type": "stream",
     "text": [
      "Enter any number: 7398129\n",
      "The new number is:  79\n"
     ]
    }
   ],
   "source": [
    "n = int(input('Enter any number: '))\n",
    "number_len = 0\n",
    "least_sig_digit = n % 10 # Storing the least significant digit in a variable\n",
    "\n",
    "while n > 0:\n",
    "    n = n//10\n",
    "    number_len += 1 # Counting the length of the number by dividing it to 10 and increasing the counter\n",
    "\n",
    "print(f'The new number is: ',number_len * 10 + least_sig_digit)\n"
   ]
  },
  {
   "cell_type": "markdown",
   "metadata": {},
   "source": [
    "### 12. Find Those Numbers which are Divisible by 7 and Multiple of 5 in a Given Range of Numbers."
   ]
  },
  {
   "cell_type": "code",
   "execution_count": 25,
   "metadata": {},
   "outputs": [
    {
     "name": "stdout",
     "output_type": "stream",
     "text": [
      "Enter the lower range: 8\n",
      "Enter the upper range: 1\n",
      "Kindly enter the appropriate number range!\n",
      "Enter the lower range: 1\n",
      "Enter the upper range: 100\n",
      "\n",
      "The numbers divisible by 7 and multiples of 5, in the given range, are as below: \n",
      "35 70 "
     ]
    }
   ],
   "source": [
    "lower_range = int(input('Enter the lower range: '))\n",
    "upper_range = int(input('Enter the upper range: '))\n",
    "\n",
    "while (upper_range-lower_range) <= 0:\n",
    "    print('Kindly enter the appropriate number range!')\n",
    "    lower_range = int(input('Enter the lower range: '))\n",
    "    upper_range = int(input('Enter the upper range: '))\n",
    "\n",
    "print('\\nThe numbers divisible by 7 and multiples of 5, in the given range, are as below: ')\n",
    "for i in range(lower_range,upper_range+1):\n",
    "    if i%5 == 0:\n",
    "        if i%7 == 0:\n",
    "            print(i,end=\" \")"
   ]
  },
  {
   "cell_type": "markdown",
   "metadata": {},
   "source": [
    "### 13. Check if a Number is an Armstrong Number."
   ]
  },
  {
   "cell_type": "code",
   "execution_count": 27,
   "metadata": {},
   "outputs": [
    {
     "name": "stdout",
     "output_type": "stream",
     "text": [
      "Enter any number to check whether it is an Armstrong Number: -1\n",
      "Kindly enter positive number only: 153\n",
      "The number is an Armstrong Number!\n"
     ]
    }
   ],
   "source": [
    "num = int(input('Enter any number to check whether it is an Armstrong Number: '))\n",
    "\n",
    "while num < 0:\n",
    "    num = int(input('Kindly enter positive number only: '))\n",
    "\n",
    "temp_num = num\n",
    "sum_of_cube_of_digits = 0\n",
    "\n",
    "while num > 0:\n",
    "    remainder = num%10\n",
    "    sum_of_cube_of_digits += (remainder)**3\n",
    "    num = num//10\n",
    "\n",
    "if sum_of_cube_of_digits == temp_num:\n",
    "    print('The number is an Armstrong Number!')\n",
    "else:\n",
    "    print('The number is not an Armstrong Number!')"
   ]
  },
  {
   "cell_type": "markdown",
   "metadata": {},
   "source": [
    "### 14. Print the Pascal's triangle for n number of rows given by the user."
   ]
  },
  {
   "cell_type": "code",
   "execution_count": 60,
   "metadata": {},
   "outputs": [
    {
     "name": "stdout",
     "output_type": "stream",
     "text": [
      "Enter number of rows: 5\n",
      "\n",
      "                    1\n",
      "                 1     1\n",
      "              1     2     1\n",
      "           1     3     3     1\n",
      "        1     4     6     4     1\n"
     ]
    }
   ],
   "source": [
    "n=int(input(\"Enter number of rows: \"))\n",
    "a=[]\n",
    "print()\n",
    "\n",
    "for i in range(n):\n",
    "    a.append([])\n",
    "    a[i].append(1)\n",
    "        \n",
    "    for j in range(1,i):\n",
    "        a[i].append(a[i-1][j-1]+a[i-1][j])\n",
    "        \n",
    "    if(n!=0):\n",
    "        a[i].append(1)\n",
    "            \n",
    "for i in range(n):\n",
    "    print(\"   \"*(n-i), end=\"\")\n",
    "    for j in range(0,i+1):\n",
    "        print('{0:6}'.format(a[i][j]),end=\"\")\n",
    "    print()"
   ]
  },
  {
   "cell_type": "markdown",
   "metadata": {},
   "source": [
    "### 15. Check if a Number is a Perfect Number."
   ]
  },
  {
   "cell_type": "code",
   "execution_count": 67,
   "metadata": {},
   "outputs": [
    {
     "name": "stdout",
     "output_type": "stream",
     "text": [
      "Enter the number to check whether it is a perfect number: 6\n",
      "The number is a perfect number!\n"
     ]
    }
   ],
   "source": [
    "num = int(input('Enter the number to check whether it is a perfect number: '))\n",
    "sum_of_factors = 0\n",
    "\n",
    "for i in range(1,num):\n",
    "    if num % i == 0:\n",
    "        sum_of_factors += i\n",
    "\n",
    "if num == sum_of_factors:\n",
    "    print('The number is a perfect number!')\n",
    "else:\n",
    "    print('The number is not a perfect number!')"
   ]
  },
  {
   "cell_type": "markdown",
   "metadata": {},
   "source": [
    "### 16. Check if a Number is a Strong Number."
   ]
  },
  {
   "cell_type": "code",
   "execution_count": 73,
   "metadata": {},
   "outputs": [
    {
     "name": "stdout",
     "output_type": "stream",
     "text": [
      "Enter any number: 145\n",
      "\n",
      "The number is a STRONG number!\n"
     ]
    }
   ],
   "source": [
    "num = int(input('Enter any number: '))\n",
    "temp_num = num\n",
    "remainder = 0\n",
    "sum_of_factorial = 0\n",
    "import math\n",
    "\n",
    "while num > 0:\n",
    "    remainder = num % 10\n",
    "    sum_of_factorial += math.factorial(remainder)\n",
    "    num = num // 10\n",
    "\n",
    "print()    \n",
    "if temp_num == sum_of_factorial:\n",
    "    print('The number is a STRONG number!')\n",
    "else:\n",
    "    print('The number is not a STRONG number!')\n"
   ]
  },
  {
   "cell_type": "markdown",
   "metadata": {},
   "source": [
    "### 17. Find the LCM of Two Numbers."
   ]
  },
  {
   "cell_type": "code",
   "execution_count": 88,
   "metadata": {},
   "outputs": [
    {
     "name": "stdout",
     "output_type": "stream",
     "text": [
      "Enter number1: 15\n",
      "Enter number2: 20\n",
      "LCM of 15 and 20 is 60\n"
     ]
    }
   ],
   "source": [
    "n1 = int(input('Enter number1: '))\n",
    "n2 = int(input('Enter number2: '))\n",
    "\n",
    "# Recursive function to return gcd of a and b\n",
    "def gcd(a,b): \n",
    "    if a == 0: \n",
    "        return b \n",
    "    return gcd(b % a, a) \n",
    "  \n",
    "# Function to return LCM of two numbers \n",
    "def lcm(a,b): \n",
    "    return int((a*b) / gcd(a,b))\n",
    "\n",
    "print('LCM of',n1,'and',n2,'is', lcm(n1, n2))"
   ]
  },
  {
   "cell_type": "markdown",
   "metadata": {},
   "source": [
    "### 18. Find the GCD of Two Numbers."
   ]
  },
  {
   "cell_type": "code",
   "execution_count": 90,
   "metadata": {},
   "outputs": [
    {
     "name": "stdout",
     "output_type": "stream",
     "text": [
      "Enter number1: 15\n",
      "Enter number2: 20\n",
      "GCD of 15 and 20 is 5\n"
     ]
    }
   ],
   "source": [
    "n1 = int(input('Enter number1: '))\n",
    "n2 = int(input('Enter number2: '))\n",
    "\n",
    "# Recursive function to return gcd of a and b\n",
    "def gcd(a,b): \n",
    "    if a == 0: \n",
    "        return b \n",
    "    return gcd(b % a, a)\n",
    "\n",
    "print('GCD of',n1,'and',n2,'is', gcd(n1, n2))"
   ]
  },
  {
   "cell_type": "markdown",
   "metadata": {},
   "source": [
    "### 19. Compute a Polynomial Equation given that the Coefficients of the Polynomial are stored in a List."
   ]
  },
  {
   "cell_type": "code",
   "execution_count": 93,
   "metadata": {},
   "outputs": [
    {
     "name": "stdout",
     "output_type": "stream",
     "text": [
      "Enter the coefficients in the order of this equation: ax3 + bx2 + cx + d\n",
      "Enter coefficient: 3\n",
      "Enter coefficient: 5\n",
      "Enter coefficient: 6\n",
      "Enter coefficient: 10\n",
      "Enter the value of x: 2\n",
      "The value of the polynomial is: 66\n"
     ]
    }
   ],
   "source": [
    "print(\"Enter the coefficients in the order of this equation: ax3 + bx2 + cx + d\")\n",
    "lst=[]\n",
    "\n",
    "for i in range(0,4):\n",
    "    a=int(input(\"Enter coefficient: \"))\n",
    "    lst.append(a)\n",
    "\n",
    "x=int(input(\"Enter the value of x: \"))\n",
    "\n",
    "pol=0\n",
    "j=3\n",
    "\n",
    "for i in range(0,3):\n",
    "    while(j>0):\n",
    "        pol += lst[i]*(x**j)\n",
    "        break\n",
    "    j=j-1\n",
    "\n",
    "pol += lst[3]\n",
    "print(\"The value of the polynomial is:\",pol)"
   ]
  },
  {
   "cell_type": "markdown",
   "metadata": {},
   "source": [
    "### 20. Check If Two Numbers are Amicable Numbers."
   ]
  },
  {
   "cell_type": "code",
   "execution_count": 97,
   "metadata": {},
   "outputs": [
    {
     "name": "stdout",
     "output_type": "stream",
     "text": [
      "Enter the first number: 220\n",
      "Enter the second number: 284\n",
      "\n",
      "The numbers are amicable!\n"
     ]
    }
   ],
   "source": [
    "# To caclculate the sum of all divisors for number x\n",
    "def sum_of_divisors(x): \n",
    "    sum = 1\n",
    "    for i in range(2, x): \n",
    "        if x % i == 0: \n",
    "            sum += i \n",
    "    return sum\n",
    "\n",
    "# To Check if the given number pair is amicable or not\n",
    "def is_amicable(a,b):\n",
    "    if sum_of_divisors(a) == b and sum_of_divisors(b) == a: \n",
    "        print('The numbers are amicable!')\n",
    "    else: \n",
    "        print('The numbers are not amicable!')\n",
    "\n",
    "n1 = int(input('Enter the first number: '))\n",
    "n2 = int(input('Enter the second number: '))\n",
    "print()\n",
    "is_amicable(n1,n2)"
   ]
  },
  {
   "cell_type": "markdown",
   "metadata": {},
   "source": [
    "### 21. Find the Area of a Triangle Given All Three Sides."
   ]
  },
  {
   "cell_type": "code",
   "execution_count": 100,
   "metadata": {},
   "outputs": [
    {
     "name": "stdout",
     "output_type": "stream",
     "text": [
      "Enter the value of 'a': 20\n",
      "Enter the value of 'b': 15\n",
      "Enter the value of 'c': 10\n",
      "\n",
      "The area of the triangle is 72.62 unit square\n"
     ]
    }
   ],
   "source": [
    "a = float(input(\"Enter the value of 'a': \"))\n",
    "b = float(input(\"Enter the value of 'b': \"))\n",
    "c = float(input(\"Enter the value of 'c': \"))\n",
    "\n",
    "p = (a+b+c)/2     # Perimeter of the Triangle\n",
    "\n",
    "import math\n",
    "\n",
    "area = math.sqrt(p*(p-a)*(p-b)*(p-c))\n",
    "\n",
    "print(f'\\nThe area of the triangle is {area:.2f} unit square')"
   ]
  },
  {
   "cell_type": "markdown",
   "metadata": {},
   "source": [
    "### 22. Find the Gravitational Force Acting Between Two Objects."
   ]
  },
  {
   "cell_type": "code",
   "execution_count": 106,
   "metadata": {},
   "outputs": [
    {
     "name": "stdout",
     "output_type": "stream",
     "text": [
      "Enter the mass of first object, m1 (in kg)          : 10000\n",
      "Enter the mass of second object, m2 (in kg)         : 1000\n",
      "Enter the distance between two objects, r (in meter): 1\n",
      "\n",
      "The Gravitational Force between m1 and m2 is 6.67e-04 N (Newtons)\n"
     ]
    }
   ],
   "source": [
    "m1 = float(input('Enter the mass of first object, m1 (in kg)          : '))\n",
    "m2 = float(input('Enter the mass of second object, m2 (in kg)         : '))\n",
    "r = float(input('Enter the distance between two objects, r (in meter): '))\n",
    "\n",
    "G = 6.67*(10**-11)\n",
    "\n",
    "F = G*m1*m2/(r**2)\n",
    "\n",
    "print(f'\\nThe Gravitational Force between m1 and m2 is {F:.2e} N (Newtons)')"
   ]
  },
  {
   "cell_type": "markdown",
   "metadata": {},
   "source": [
    "### 23. Check if a Number is a Prime Number."
   ]
  },
  {
   "cell_type": "code",
   "execution_count": 132,
   "metadata": {},
   "outputs": [
    {
     "name": "stdout",
     "output_type": "stream",
     "text": [
      "Enter the number: 6\n",
      "6 is not a prime number!\n"
     ]
    }
   ],
   "source": [
    "n = int(input('Enter the number: '))\n",
    "\n",
    "while n <= 1:\n",
    "    n = int(input('Kindly enter the valid number (> 1): '))\n",
    "if n == 2:\n",
    "    print(f'{n} is a prime number!')\n",
    "for i in range(2,n):\n",
    "    if n % i == 0:\n",
    "        print(f'{n} is not a prime number!')\n",
    "        break\n",
    "else:\n",
    "    print(f'{n} is a prime number!')"
   ]
  },
  {
   "cell_type": "markdown",
   "metadata": {},
   "source": [
    "### 24. Print all the Prime Numbers within a Given Range."
   ]
  },
  {
   "cell_type": "code",
   "execution_count": 149,
   "metadata": {},
   "outputs": [
    {
     "name": "stdout",
     "output_type": "stream",
     "text": [
      "Enter the number: 100\n",
      "\n",
      "All prime numbers within & including the number 100 are:\n",
      "[2, 3, 5, 7, 11, 13, 17, 19, 23, 29, 31, 37, 41, 43, 47, 53, 59, 61, 67, 71, 73, 79, 83, 89, 97]\n"
     ]
    }
   ],
   "source": [
    "n = int(input('Enter the number: '))\n",
    "list_of_primes = []\n",
    "\n",
    "while n < 2:\n",
    "    n = int(input('Kindly enter the number >= 2: '))\n",
    "\n",
    "for i in range(2,n+1):\n",
    "    #if i == 2:\n",
    "    #    list_of_primes.append(i)\n",
    "    for j in range(2,i):\n",
    "        if i % j == 0:\n",
    "            break\n",
    "    else:\n",
    "        list_of_primes.append(i)\n",
    "\n",
    "print(f'\\nAll prime numbers within & including the number {n} are:')\n",
    "print(list_of_primes)"
   ]
  },
  {
   "cell_type": "markdown",
   "metadata": {},
   "source": [
    "### 25. Print Numbers in a Range (1,upper) Without Using any Loops."
   ]
  },
  {
   "cell_type": "code",
   "execution_count": 155,
   "metadata": {},
   "outputs": [
    {
     "name": "stdout",
     "output_type": "stream",
     "text": [
      "Enter the upper range: 10\n",
      "[1, 2, 3, 4, 5, 6, 7, 8, 9, 10]\n"
     ]
    }
   ],
   "source": [
    "upper = int(input('Enter the upper range: '))\n",
    "lst = list(range(1,upper+1))\n",
    "print(lst)"
   ]
  },
  {
   "cell_type": "markdown",
   "metadata": {},
   "source": [
    "### 26. Find the Sum of Sine Series."
   ]
  },
  {
   "cell_type": "code",
   "execution_count": 162,
   "metadata": {},
   "outputs": [
    {
     "name": "stdout",
     "output_type": "stream",
     "text": [
      "Enter x in degrees: 90\n",
      "Enter number of terms n: 4\n",
      "\n",
      "Sum of Sine Series: 0.9998\n"
     ]
    }
   ],
   "source": [
    "import math\n",
    "def sin(x,n):   # x is degree and n is no. of terms\n",
    "    s = 0       # initiating sum to zero\n",
    "    for i in range(n):\n",
    "        rad=x*(math.pi/180) # Converting degree into radian\n",
    "        s += ((rad**(2.0*i+1))/math.factorial(2*i+1))*(-1)**i\n",
    "    return s\n",
    "x=int(input(\"Enter x in degrees: \"))\n",
    "n=int(input(\"Enter number of terms n: \"))\n",
    "print(f'\\nSum of Sine Series: {sin(x,n):.4f}')"
   ]
  },
  {
   "cell_type": "markdown",
   "metadata": {},
   "source": [
    "### 27. Find the Sum of Cosine Series."
   ]
  },
  {
   "cell_type": "code",
   "execution_count": 163,
   "metadata": {},
   "outputs": [
    {
     "name": "stdout",
     "output_type": "stream",
     "text": [
      "Enter x in degrees: 90\n",
      "Enter number of terms n: 4\n",
      "\n",
      "Sum of Cosine Series: -0.0009\n"
     ]
    }
   ],
   "source": [
    "import math\n",
    "def cos(x,n):   # x is degree and n is no. of terms\n",
    "    s = 0       # initiating sum to zero\n",
    "    for i in range(n):\n",
    "        rad=x*(math.pi/180) # Converting degree into radian\n",
    "        s += ((rad**(2.0*i))/math.factorial(2*i))*(-1)**i\n",
    "    return s\n",
    "x=int(input(\"Enter x in degrees: \"))\n",
    "n=int(input(\"Enter number of terms n: \"))\n",
    "print(f'\\nSum of Cosine Series: {cos(x,n):.4f}')"
   ]
  },
  {
   "cell_type": "markdown",
   "metadata": {},
   "source": [
    "### 28. Find the Sum of First N Natural Numbers."
   ]
  },
  {
   "cell_type": "code",
   "execution_count": 164,
   "metadata": {},
   "outputs": [
    {
     "name": "stdout",
     "output_type": "stream",
     "text": [
      "Enter the number: 5\n",
      "Total sum of first 5 Natural numbers is 15\n"
     ]
    }
   ],
   "source": [
    "n = int(input('Enter the number: '))\n",
    "total_sum = 0\n",
    "i = 0\n",
    "\n",
    "while i <= n:\n",
    "    \n",
    "    total_sum += i\n",
    "    i += 1\n",
    "\n",
    "print(f'Total sum of first {n} Natural numbers is {total_sum}')"
   ]
  },
  {
   "cell_type": "markdown",
   "metadata": {},
   "source": [
    "### 29. Find the Sum of the Series: 1 + 1/2 + 1/3 + ….. + 1/N."
   ]
  },
  {
   "cell_type": "code",
   "execution_count": 177,
   "metadata": {},
   "outputs": [
    {
     "name": "stdout",
     "output_type": "stream",
     "text": [
      "Enter the number: 10\n",
      "\n",
      "Sum of the series 1 + 1/2 + 1/3 + . . . + 1/N for number 10 is 2.9290\n"
     ]
    }
   ],
   "source": [
    "n = int(input('Enter the number: '))\n",
    "sum_of_series = 0\n",
    "\n",
    "for i in range(1,n+1):\n",
    "    sum_of_series += 1/i\n",
    "    \n",
    "print(f'\\nSum of the series 1 + 1/2 + 1/3 + . . . + 1/N for number {n} is {sum_of_series:.4f}')"
   ]
  },
  {
   "cell_type": "markdown",
   "metadata": {},
   "source": [
    "### 30. Find the Sum of the Series: 1 + x + x^2/2 + x^3/3 + … x^n/n."
   ]
  },
  {
   "cell_type": "code",
   "execution_count": 178,
   "metadata": {},
   "outputs": [
    {
     "name": "stdout",
     "output_type": "stream",
     "text": [
      "Enter the base value, x: 1\n",
      "Enter the range value, n: 10\n",
      "\n",
      "Sum of the series 1 + x + x^2/2 + x^3/3 + … x^n/n for base (x) 1 and range (n) 10 is 2.9290\n"
     ]
    }
   ],
   "source": [
    "x = int(input('Enter the base value, x: '))\n",
    "n = int(input('Enter the range value, n: '))\n",
    "\n",
    "sum_of_series = 0\n",
    "\n",
    "for i in range(1,n+1):\n",
    "    sum_of_series += (1**i)/i\n",
    "    \n",
    "print(f'\\nSum of the series 1 + x + x^2/2 + x^3/3 + … x^n/n for base (x) {x} and range (n) {n} is {sum_of_series:.4f}')"
   ]
  },
  {
   "cell_type": "markdown",
   "metadata": {},
   "source": [
    "### 31. Compute the Value of Euler's Number e. Use the Formula: e = 1 + 1/1! + 1/2! + …… 1/n!"
   ]
  },
  {
   "cell_type": "code",
   "execution_count": 5,
   "metadata": {},
   "outputs": [
    {
     "name": "stdout",
     "output_type": "stream",
     "text": [
      "2.7182818284590455\n"
     ]
    }
   ],
   "source": [
    "n = 100\n",
    "e = 0\n",
    "import math\n",
    "\n",
    "for i in range(0,n):\n",
    "    e += (1/math.factorial(i))\n",
    "    \n",
    "print(e)    "
   ]
  },
  {
   "cell_type": "markdown",
   "metadata": {},
   "source": [
    "### 32. Determine all Pythagorean Triplets in the Range."
   ]
  },
  {
   "cell_type": "code",
   "execution_count": 8,
   "metadata": {},
   "outputs": [
    {
     "name": "stdout",
     "output_type": "stream",
     "text": [
      "Enter the number range: 20\n",
      "3 4 5\n",
      "8 6 10\n",
      "5 12 13\n",
      "15 8 17\n",
      "12 16 20\n"
     ]
    }
   ],
   "source": [
    "r = int(input('Enter the number range: '))\n",
    "c = 0\n",
    "i = 2\n",
    "\n",
    "while c < r:\n",
    "    for j in range(1,i):\n",
    "        a = i**2 - j**2\n",
    "        b = 2*i*j\n",
    "        c = i**2 + j**2\n",
    "        \n",
    "        if c > r:\n",
    "            break\n",
    "        print(a,b,c)\n",
    "    i += 1\n",
    "    \n",
    "        \n"
   ]
  },
  {
   "cell_type": "markdown",
   "metadata": {},
   "source": [
    "### 33. Search the Number of Times a Particular Number Occurs in a List."
   ]
  },
  {
   "cell_type": "code",
   "execution_count": 9,
   "metadata": {},
   "outputs": [
    {
     "name": "stdout",
     "output_type": "stream",
     "text": [
      "Enter the numbers in list (hit \"y\" when you are done!): 1\n",
      "Enter the numbers in list (hit \"y\" when you are done!): 3\n",
      "Enter the numbers in list (hit \"y\" when you are done!): 6\n",
      "Enter the numbers in list (hit \"y\" when you are done!): 3\n",
      "Enter the numbers in list (hit \"y\" when you are done!): 5\n",
      "Enter the numbers in list (hit \"y\" when you are done!): 2\n",
      "Enter the numbers in list (hit \"y\" when you are done!): 7\n",
      "Enter the numbers in list (hit \"y\" when you are done!): 3\n",
      "Enter the numbers in list (hit \"y\" when you are done!): y\n",
      "Enter the number for which you want count form the list: 3\n",
      "\n",
      "The number 3 appeared 3 times in the below list!\n",
      "[1, 3, 6, 3, 5, 2, 7, 3]\n"
     ]
    }
   ],
   "source": [
    "lst = []\n",
    "n = input('Enter the numbers in list (hit \"y\" when you are done!): ')\n",
    "\n",
    "while n not in 'yY':\n",
    "    lst.append(n)\n",
    "    n = input('Enter the numbers in list (hit \"y\" when you are done!): ')\n",
    "\n",
    "check_num = input('Enter the number for which you want count form the list: ')\n",
    "\n",
    "count = lst.count(check_num)\n",
    "\n",
    "print(f'\\nThe number {check_num} appeared {count} times in the below list!')\n",
    "print(list(int(i) for i in lst))"
   ]
  },
  {
   "cell_type": "markdown",
   "metadata": {},
   "source": [
    "### 34. Test Collatz Conjecture for a Given Number."
   ]
  },
  {
   "cell_type": "code",
   "execution_count": 42,
   "metadata": {},
   "outputs": [
    {
     "name": "stdout",
     "output_type": "stream",
     "text": [
      "Enter any number: 13\n",
      "13 40 20 10 5 16 8 4 2 1\n"
     ]
    }
   ],
   "source": [
    "n = int(input('Enter any number: '))\n",
    "\n",
    "while n <= 0:\n",
    "    n = int(input('Kindly enter any number > 1 : '))\n",
    "\n",
    "def CollatzConjecture(n):\n",
    "    \n",
    "    while n != 1:\n",
    "        \n",
    "        if n % 2 == 0:\n",
    "            print(n, end = \" \")\n",
    "            n = int(n/2)\n",
    "        else:\n",
    "            print(n, end = \" \")\n",
    "            n = 3*n + 1\n",
    "    print(1)\n",
    "\n",
    "CollatzConjecture(n)"
   ]
  },
  {
   "cell_type": "markdown",
   "metadata": {},
   "source": [
    "### 35. Count Set Bits in a Number."
   ]
  },
  {
   "cell_type": "code",
   "execution_count": 38,
   "metadata": {},
   "outputs": [
    {
     "name": "stdout",
     "output_type": "stream",
     "text": [
      "Enter any positive decimal number: 15\n",
      "\n",
      "Binary Representation: 1111\n",
      "No. of set bits in the number 15 is/are: 4\n"
     ]
    }
   ],
   "source": [
    "decimal = int(input('Enter any positive decimal number: '))\n",
    "\n",
    "def count_set_bits(n):\n",
    "    remainder = 0\n",
    "    binary_list = []\n",
    "    \n",
    "    if n == 0:\n",
    "        return 0,0\n",
    "    else:\n",
    "        while n > 0:\n",
    "            remainder = n % 2\n",
    "            binary_list.append(remainder)\n",
    "            n = n // 2\n",
    "        \n",
    "        binary_list.reverse()\n",
    "        result = int(\"\".join(list(str(x) for x in binary_list)))\n",
    "        \n",
    "        return binary_list.count(1),result\n",
    "    \n",
    "set_bits, binary_list = count_set_bits(decimal)\n",
    "print(f'\\nBinary Representation: {binary_list}')\n",
    "print(f'No. of set bits in the number {decimal} is/are: {set_bits}')"
   ]
  },
  {
   "cell_type": "markdown",
   "metadata": {},
   "source": [
    "### 36. Find Whether a Number is a Power of Two."
   ]
  },
  {
   "cell_type": "code",
   "execution_count": 23,
   "metadata": {},
   "outputs": [
    {
     "name": "stdout",
     "output_type": "stream",
     "text": [
      "Enter the number: 16\n",
      "\n",
      "Binary Format: 10000\n",
      "The number is a power of two!\n"
     ]
    }
   ],
   "source": [
    "num = int(input('Enter the number: '))\n",
    "\n",
    "def Power_of_two(n):\n",
    "    \n",
    "    if n == 0:\n",
    "        return False\n",
    "    \n",
    "    remainder = 0\n",
    "    binary_lst = []\n",
    "    \n",
    "    while n > 0:\n",
    "        \n",
    "        remainder = n % 2\n",
    "        binary_lst.append(remainder)\n",
    "        n = n // 2\n",
    "    binary_lst.reverse()\n",
    "    print(f'\\nBinary Format: {int(\"\".join(list(str(x) for x in binary_lst)))}')    \n",
    "    return binary_lst.count(1) == 1\n",
    "\n",
    "if Power_of_two(num):\n",
    "    print('The number is a power of two!')\n",
    "else:\n",
    "    print('The number is not a power of two!')"
   ]
  },
  {
   "cell_type": "markdown",
   "metadata": {},
   "source": [
    "### 37. Clear the Rightmost Set Bit of a Number."
   ]
  },
  {
   "cell_type": "code",
   "execution_count": 52,
   "metadata": {},
   "outputs": [
    {
     "name": "stdout",
     "output_type": "stream",
     "text": [
      "Enter any decimal number: 12\n",
      "\n",
      "Original Binary Representation: 1100\n",
      "Updated Binary Representation: 1000\n",
      "Updated Decimal Representation: 8\n"
     ]
    }
   ],
   "source": [
    "number = int(input('Enter any decimal number: '))\n",
    "\n",
    "remainder = 0\n",
    "binary_list = []\n",
    "    \n",
    "while number <= 0:\n",
    "    \n",
    "    number = int(input('Kindly enter positive decimal number ( num > 0 ) only: '))\n",
    "\n",
    "while number > 0:\n",
    "    \n",
    "    remainder = number % 2\n",
    "    binary_list.append(remainder)\n",
    "    number = number // 2\n",
    "        \n",
    "binary_list.reverse()\n",
    "print(f'\\nOriginal Binary Representation: {int(\"\".join(list(str(x) for x in binary_list)))}')\n",
    "    \n",
    "for i in range(len(binary_list)-1,-1,-1):\n",
    "      \n",
    "      if binary_list[i] == 1:\n",
    "          binary_list[i] = 0\n",
    "          break\n",
    "\n",
    "updated_num = 0\n",
    "\n",
    "for i in range(len(binary_list)-1,-1,-1):\n",
    "      \n",
    "      if binary_list[len(binary_list)-i-1] == 1:\n",
    "          updated_num += 2**i\n",
    "    \n",
    "print(f'Updated Binary Representation: {str(\"\".join(list(str(x) for x in binary_list)))}')\n",
    "print(f'Updated Decimal Representation: {updated_num}')"
   ]
  },
  {
   "cell_type": "markdown",
   "metadata": {},
   "source": [
    "### 38. Generate Gray Codes using Recursion."
   ]
  },
  {
   "cell_type": "code",
   "execution_count": 59,
   "metadata": {},
   "outputs": [
    {
     "name": "stdout",
     "output_type": "stream",
     "text": [
      "Enter the number of bits: 3\n",
      "All 3-bit Gray Codes are:\n",
      "['000', '001', '011', '010', '110', '111', '101', '100']\n"
     ]
    }
   ],
   "source": [
    "n_bits = int(input('Enter the number of bits: '))\n",
    "\n",
    "def get_graycodes(n):\n",
    "    \n",
    "    if n == 0:\n",
    "        return ['']\n",
    "    \n",
    "    first_half_code = get_graycodes(n-1)\n",
    "    second_half_code = first_half_code.copy()\n",
    "    \n",
    "    first_half_code = ['0' + code for code in first_half_code]\n",
    "    second_half_code = ['1' + code for code in reversed(second_half_code)]\n",
    "    \n",
    "    return first_half_code + second_half_code\n",
    "\n",
    "codes = get_graycodes(n_bits)\n",
    "print(f'All {n_bits}-bit Gray Codes are:')\n",
    "print(codes)"
   ]
  },
  {
   "cell_type": "code",
   "execution_count": null,
   "metadata": {},
   "outputs": [],
   "source": []
  }
 ],
 "metadata": {
  "kernelspec": {
   "display_name": "Python 3",
   "language": "python",
   "name": "python3"
  },
  "language_info": {
   "codemirror_mode": {
    "name": "ipython",
    "version": 3
   },
   "file_extension": ".py",
   "mimetype": "text/x-python",
   "name": "python",
   "nbconvert_exporter": "python",
   "pygments_lexer": "ipython3",
   "version": "3.7.3"
  }
 },
 "nbformat": 4,
 "nbformat_minor": 2
}
